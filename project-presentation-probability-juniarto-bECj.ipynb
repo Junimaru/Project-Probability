{
  "nbformat": 4,
  "nbformat_minor": 0,
  "metadata": {
    "colab": {
      "provenance": [],
      "collapsed_sections": []
    },
    "kernelspec": {
      "name": "python3",
      "display_name": "Python 3"
    },
    "language_info": {
      "name": "python"
    }
  },
  "cells": [
    {
      "cell_type": "markdown",
      "source": [
        "### Import Data dan Library"
      ],
      "metadata": {
        "id": "1jSamkasvRhc"
      }
    },
    {
      "cell_type": "code",
      "execution_count": 1,
      "metadata": {
        "colab": {
          "base_uri": "https://localhost:8080/",
          "height": 71
        },
        "id": "-3bLWk3fueds",
        "outputId": "f0ddf078-0046-4817-fa21-c68824cb1ef6"
      },
      "outputs": [
        {
          "output_type": "display_data",
          "data": {
            "text/plain": [
              "<IPython.core.display.HTML object>"
            ],
            "text/html": [
              "\n",
              "     <input type=\"file\" id=\"files-71cfc12d-6593-47b5-81ea-7830bdc7297e\" name=\"files[]\" multiple disabled\n",
              "        style=\"border:none\" />\n",
              "     <output id=\"result-71cfc12d-6593-47b5-81ea-7830bdc7297e\">\n",
              "      Upload widget is only available when the cell has been executed in the\n",
              "      current browser session. Please rerun this cell to enable.\n",
              "      </output>\n",
              "      <script>// Copyright 2017 Google LLC\n",
              "//\n",
              "// Licensed under the Apache License, Version 2.0 (the \"License\");\n",
              "// you may not use this file except in compliance with the License.\n",
              "// You may obtain a copy of the License at\n",
              "//\n",
              "//      http://www.apache.org/licenses/LICENSE-2.0\n",
              "//\n",
              "// Unless required by applicable law or agreed to in writing, software\n",
              "// distributed under the License is distributed on an \"AS IS\" BASIS,\n",
              "// WITHOUT WARRANTIES OR CONDITIONS OF ANY KIND, either express or implied.\n",
              "// See the License for the specific language governing permissions and\n",
              "// limitations under the License.\n",
              "\n",
              "/**\n",
              " * @fileoverview Helpers for google.colab Python module.\n",
              " */\n",
              "(function(scope) {\n",
              "function span(text, styleAttributes = {}) {\n",
              "  const element = document.createElement('span');\n",
              "  element.textContent = text;\n",
              "  for (const key of Object.keys(styleAttributes)) {\n",
              "    element.style[key] = styleAttributes[key];\n",
              "  }\n",
              "  return element;\n",
              "}\n",
              "\n",
              "// Max number of bytes which will be uploaded at a time.\n",
              "const MAX_PAYLOAD_SIZE = 100 * 1024;\n",
              "\n",
              "function _uploadFiles(inputId, outputId) {\n",
              "  const steps = uploadFilesStep(inputId, outputId);\n",
              "  const outputElement = document.getElementById(outputId);\n",
              "  // Cache steps on the outputElement to make it available for the next call\n",
              "  // to uploadFilesContinue from Python.\n",
              "  outputElement.steps = steps;\n",
              "\n",
              "  return _uploadFilesContinue(outputId);\n",
              "}\n",
              "\n",
              "// This is roughly an async generator (not supported in the browser yet),\n",
              "// where there are multiple asynchronous steps and the Python side is going\n",
              "// to poll for completion of each step.\n",
              "// This uses a Promise to block the python side on completion of each step,\n",
              "// then passes the result of the previous step as the input to the next step.\n",
              "function _uploadFilesContinue(outputId) {\n",
              "  const outputElement = document.getElementById(outputId);\n",
              "  const steps = outputElement.steps;\n",
              "\n",
              "  const next = steps.next(outputElement.lastPromiseValue);\n",
              "  return Promise.resolve(next.value.promise).then((value) => {\n",
              "    // Cache the last promise value to make it available to the next\n",
              "    // step of the generator.\n",
              "    outputElement.lastPromiseValue = value;\n",
              "    return next.value.response;\n",
              "  });\n",
              "}\n",
              "\n",
              "/**\n",
              " * Generator function which is called between each async step of the upload\n",
              " * process.\n",
              " * @param {string} inputId Element ID of the input file picker element.\n",
              " * @param {string} outputId Element ID of the output display.\n",
              " * @return {!Iterable<!Object>} Iterable of next steps.\n",
              " */\n",
              "function* uploadFilesStep(inputId, outputId) {\n",
              "  const inputElement = document.getElementById(inputId);\n",
              "  inputElement.disabled = false;\n",
              "\n",
              "  const outputElement = document.getElementById(outputId);\n",
              "  outputElement.innerHTML = '';\n",
              "\n",
              "  const pickedPromise = new Promise((resolve) => {\n",
              "    inputElement.addEventListener('change', (e) => {\n",
              "      resolve(e.target.files);\n",
              "    });\n",
              "  });\n",
              "\n",
              "  const cancel = document.createElement('button');\n",
              "  inputElement.parentElement.appendChild(cancel);\n",
              "  cancel.textContent = 'Cancel upload';\n",
              "  const cancelPromise = new Promise((resolve) => {\n",
              "    cancel.onclick = () => {\n",
              "      resolve(null);\n",
              "    };\n",
              "  });\n",
              "\n",
              "  // Wait for the user to pick the files.\n",
              "  const files = yield {\n",
              "    promise: Promise.race([pickedPromise, cancelPromise]),\n",
              "    response: {\n",
              "      action: 'starting',\n",
              "    }\n",
              "  };\n",
              "\n",
              "  cancel.remove();\n",
              "\n",
              "  // Disable the input element since further picks are not allowed.\n",
              "  inputElement.disabled = true;\n",
              "\n",
              "  if (!files) {\n",
              "    return {\n",
              "      response: {\n",
              "        action: 'complete',\n",
              "      }\n",
              "    };\n",
              "  }\n",
              "\n",
              "  for (const file of files) {\n",
              "    const li = document.createElement('li');\n",
              "    li.append(span(file.name, {fontWeight: 'bold'}));\n",
              "    li.append(span(\n",
              "        `(${file.type || 'n/a'}) - ${file.size} bytes, ` +\n",
              "        `last modified: ${\n",
              "            file.lastModifiedDate ? file.lastModifiedDate.toLocaleDateString() :\n",
              "                                    'n/a'} - `));\n",
              "    const percent = span('0% done');\n",
              "    li.appendChild(percent);\n",
              "\n",
              "    outputElement.appendChild(li);\n",
              "\n",
              "    const fileDataPromise = new Promise((resolve) => {\n",
              "      const reader = new FileReader();\n",
              "      reader.onload = (e) => {\n",
              "        resolve(e.target.result);\n",
              "      };\n",
              "      reader.readAsArrayBuffer(file);\n",
              "    });\n",
              "    // Wait for the data to be ready.\n",
              "    let fileData = yield {\n",
              "      promise: fileDataPromise,\n",
              "      response: {\n",
              "        action: 'continue',\n",
              "      }\n",
              "    };\n",
              "\n",
              "    // Use a chunked sending to avoid message size limits. See b/62115660.\n",
              "    let position = 0;\n",
              "    do {\n",
              "      const length = Math.min(fileData.byteLength - position, MAX_PAYLOAD_SIZE);\n",
              "      const chunk = new Uint8Array(fileData, position, length);\n",
              "      position += length;\n",
              "\n",
              "      const base64 = btoa(String.fromCharCode.apply(null, chunk));\n",
              "      yield {\n",
              "        response: {\n",
              "          action: 'append',\n",
              "          file: file.name,\n",
              "          data: base64,\n",
              "        },\n",
              "      };\n",
              "\n",
              "      let percentDone = fileData.byteLength === 0 ?\n",
              "          100 :\n",
              "          Math.round((position / fileData.byteLength) * 100);\n",
              "      percent.textContent = `${percentDone}% done`;\n",
              "\n",
              "    } while (position < fileData.byteLength);\n",
              "  }\n",
              "\n",
              "  // All done.\n",
              "  yield {\n",
              "    response: {\n",
              "      action: 'complete',\n",
              "    }\n",
              "  };\n",
              "}\n",
              "\n",
              "scope.google = scope.google || {};\n",
              "scope.google.colab = scope.google.colab || {};\n",
              "scope.google.colab._files = {\n",
              "  _uploadFiles,\n",
              "  _uploadFilesContinue,\n",
              "};\n",
              "})(self);\n",
              "</script> "
            ]
          },
          "metadata": {}
        },
        {
          "output_type": "stream",
          "name": "stdout",
          "text": [
            "Saving insurance.csv to insurance.csv\n"
          ]
        }
      ],
      "source": [
        "from google.colab import files\n",
        " \n",
        " \n",
        "uploaded = files.upload()\n"
      ]
    },
    {
      "cell_type": "code",
      "source": [
        "import pandas as pd\n",
        "import io\n",
        "\n",
        "\n",
        "import matplotlib.pyplot as plt\n",
        "import seaborn as sns\n",
        "from scipy import stats\n",
        "from scipy.stats import norm\n",
        "from scipy import bartlett\n",
        "%matplotlib inline\n",
        "\n",
        "\n",
        " \n",
        "df = pd.read_csv(io.BytesIO(uploaded['insurance.csv']))\n",
        "print(df)\n",
        "round(df.describe(),2)"
      ],
      "metadata": {
        "id": "X9bTtLhpYBjy",
        "colab": {
          "base_uri": "https://localhost:8080/",
          "height": 494
        },
        "outputId": "715e04fa-8077-448f-a956-c868adf35eef"
      },
      "execution_count": 123,
      "outputs": [
        {
          "output_type": "stream",
          "name": "stdout",
          "text": [
            "      age     sex     bmi  children smoker     region      charges\n",
            "0      19  female  27.900         0    yes  southwest  16884.92400\n",
            "1      18    male  33.770         1     no  southeast   1725.55230\n",
            "2      28    male  33.000         3     no  southeast   4449.46200\n",
            "3      33    male  22.705         0     no  northwest  21984.47061\n",
            "4      32    male  28.880         0     no  northwest   3866.85520\n",
            "...   ...     ...     ...       ...    ...        ...          ...\n",
            "1333   50    male  30.970         3     no  northwest  10600.54830\n",
            "1334   18  female  31.920         0     no  northeast   2205.98080\n",
            "1335   18  female  36.850         0     no  southeast   1629.83350\n",
            "1336   21  female  25.800         0     no  southwest   2007.94500\n",
            "1337   61  female  29.070         0    yes  northwest  29141.36030\n",
            "\n",
            "[1338 rows x 7 columns]\n"
          ]
        },
        {
          "output_type": "execute_result",
          "data": {
            "text/plain": [
              "           age      bmi  children   charges\n",
              "count  1338.00  1338.00   1338.00   1338.00\n",
              "mean     39.21    30.66      1.09  13270.42\n",
              "std      14.05     6.10      1.21  12110.01\n",
              "min      18.00    15.96      0.00   1121.87\n",
              "25%      27.00    26.30      0.00   4740.29\n",
              "50%      39.00    30.40      1.00   9382.03\n",
              "75%      51.00    34.69      2.00  16639.91\n",
              "max      64.00    53.13      5.00  63770.43"
            ],
            "text/html": [
              "\n",
              "  <div id=\"df-4f5d47ec-eb81-44b4-8bde-9d76cda0036f\">\n",
              "    <div class=\"colab-df-container\">\n",
              "      <div>\n",
              "<style scoped>\n",
              "    .dataframe tbody tr th:only-of-type {\n",
              "        vertical-align: middle;\n",
              "    }\n",
              "\n",
              "    .dataframe tbody tr th {\n",
              "        vertical-align: top;\n",
              "    }\n",
              "\n",
              "    .dataframe thead th {\n",
              "        text-align: right;\n",
              "    }\n",
              "</style>\n",
              "<table border=\"1\" class=\"dataframe\">\n",
              "  <thead>\n",
              "    <tr style=\"text-align: right;\">\n",
              "      <th></th>\n",
              "      <th>age</th>\n",
              "      <th>bmi</th>\n",
              "      <th>children</th>\n",
              "      <th>charges</th>\n",
              "    </tr>\n",
              "  </thead>\n",
              "  <tbody>\n",
              "    <tr>\n",
              "      <th>count</th>\n",
              "      <td>1338.00</td>\n",
              "      <td>1338.00</td>\n",
              "      <td>1338.00</td>\n",
              "      <td>1338.00</td>\n",
              "    </tr>\n",
              "    <tr>\n",
              "      <th>mean</th>\n",
              "      <td>39.21</td>\n",
              "      <td>30.66</td>\n",
              "      <td>1.09</td>\n",
              "      <td>13270.42</td>\n",
              "    </tr>\n",
              "    <tr>\n",
              "      <th>std</th>\n",
              "      <td>14.05</td>\n",
              "      <td>6.10</td>\n",
              "      <td>1.21</td>\n",
              "      <td>12110.01</td>\n",
              "    </tr>\n",
              "    <tr>\n",
              "      <th>min</th>\n",
              "      <td>18.00</td>\n",
              "      <td>15.96</td>\n",
              "      <td>0.00</td>\n",
              "      <td>1121.87</td>\n",
              "    </tr>\n",
              "    <tr>\n",
              "      <th>25%</th>\n",
              "      <td>27.00</td>\n",
              "      <td>26.30</td>\n",
              "      <td>0.00</td>\n",
              "      <td>4740.29</td>\n",
              "    </tr>\n",
              "    <tr>\n",
              "      <th>50%</th>\n",
              "      <td>39.00</td>\n",
              "      <td>30.40</td>\n",
              "      <td>1.00</td>\n",
              "      <td>9382.03</td>\n",
              "    </tr>\n",
              "    <tr>\n",
              "      <th>75%</th>\n",
              "      <td>51.00</td>\n",
              "      <td>34.69</td>\n",
              "      <td>2.00</td>\n",
              "      <td>16639.91</td>\n",
              "    </tr>\n",
              "    <tr>\n",
              "      <th>max</th>\n",
              "      <td>64.00</td>\n",
              "      <td>53.13</td>\n",
              "      <td>5.00</td>\n",
              "      <td>63770.43</td>\n",
              "    </tr>\n",
              "  </tbody>\n",
              "</table>\n",
              "</div>\n",
              "      <button class=\"colab-df-convert\" onclick=\"convertToInteractive('df-4f5d47ec-eb81-44b4-8bde-9d76cda0036f')\"\n",
              "              title=\"Convert this dataframe to an interactive table.\"\n",
              "              style=\"display:none;\">\n",
              "        \n",
              "  <svg xmlns=\"http://www.w3.org/2000/svg\" height=\"24px\"viewBox=\"0 0 24 24\"\n",
              "       width=\"24px\">\n",
              "    <path d=\"M0 0h24v24H0V0z\" fill=\"none\"/>\n",
              "    <path d=\"M18.56 5.44l.94 2.06.94-2.06 2.06-.94-2.06-.94-.94-2.06-.94 2.06-2.06.94zm-11 1L8.5 8.5l.94-2.06 2.06-.94-2.06-.94L8.5 2.5l-.94 2.06-2.06.94zm10 10l.94 2.06.94-2.06 2.06-.94-2.06-.94-.94-2.06-.94 2.06-2.06.94z\"/><path d=\"M17.41 7.96l-1.37-1.37c-.4-.4-.92-.59-1.43-.59-.52 0-1.04.2-1.43.59L10.3 9.45l-7.72 7.72c-.78.78-.78 2.05 0 2.83L4 21.41c.39.39.9.59 1.41.59.51 0 1.02-.2 1.41-.59l7.78-7.78 2.81-2.81c.8-.78.8-2.07 0-2.86zM5.41 20L4 18.59l7.72-7.72 1.47 1.35L5.41 20z\"/>\n",
              "  </svg>\n",
              "      </button>\n",
              "      \n",
              "  <style>\n",
              "    .colab-df-container {\n",
              "      display:flex;\n",
              "      flex-wrap:wrap;\n",
              "      gap: 12px;\n",
              "    }\n",
              "\n",
              "    .colab-df-convert {\n",
              "      background-color: #E8F0FE;\n",
              "      border: none;\n",
              "      border-radius: 50%;\n",
              "      cursor: pointer;\n",
              "      display: none;\n",
              "      fill: #1967D2;\n",
              "      height: 32px;\n",
              "      padding: 0 0 0 0;\n",
              "      width: 32px;\n",
              "    }\n",
              "\n",
              "    .colab-df-convert:hover {\n",
              "      background-color: #E2EBFA;\n",
              "      box-shadow: 0px 1px 2px rgba(60, 64, 67, 0.3), 0px 1px 3px 1px rgba(60, 64, 67, 0.15);\n",
              "      fill: #174EA6;\n",
              "    }\n",
              "\n",
              "    [theme=dark] .colab-df-convert {\n",
              "      background-color: #3B4455;\n",
              "      fill: #D2E3FC;\n",
              "    }\n",
              "\n",
              "    [theme=dark] .colab-df-convert:hover {\n",
              "      background-color: #434B5C;\n",
              "      box-shadow: 0px 1px 3px 1px rgba(0, 0, 0, 0.15);\n",
              "      filter: drop-shadow(0px 1px 2px rgba(0, 0, 0, 0.3));\n",
              "      fill: #FFFFFF;\n",
              "    }\n",
              "  </style>\n",
              "\n",
              "      <script>\n",
              "        const buttonEl =\n",
              "          document.querySelector('#df-4f5d47ec-eb81-44b4-8bde-9d76cda0036f button.colab-df-convert');\n",
              "        buttonEl.style.display =\n",
              "          google.colab.kernel.accessAllowed ? 'block' : 'none';\n",
              "\n",
              "        async function convertToInteractive(key) {\n",
              "          const element = document.querySelector('#df-4f5d47ec-eb81-44b4-8bde-9d76cda0036f');\n",
              "          const dataTable =\n",
              "            await google.colab.kernel.invokeFunction('convertToInteractive',\n",
              "                                                     [key], {});\n",
              "          if (!dataTable) return;\n",
              "\n",
              "          const docLinkHtml = 'Like what you see? Visit the ' +\n",
              "            '<a target=\"_blank\" href=https://colab.research.google.com/notebooks/data_table.ipynb>data table notebook</a>'\n",
              "            + ' to learn more about interactive tables.';\n",
              "          element.innerHTML = '';\n",
              "          dataTable['output_type'] = 'display_data';\n",
              "          await google.colab.output.renderOutput(dataTable, element);\n",
              "          const docLink = document.createElement('div');\n",
              "          docLink.innerHTML = docLinkHtml;\n",
              "          element.appendChild(docLink);\n",
              "        }\n",
              "      </script>\n",
              "    </div>\n",
              "  </div>\n",
              "  "
            ]
          },
          "metadata": {},
          "execution_count": 123
        }
      ]
    },
    {
      "cell_type": "markdown",
      "source": [
        "### Langkah 1 : Analisa Descriptive Statistics"
      ],
      "metadata": {
        "id": "1t-lzgq2rWpm"
      }
    },
    {
      "cell_type": "code",
      "source": [
        "#Buat grafik distribusi Umur, Charges,sama BMI\n",
        "\n",
        "%matplotlib inline\n",
        "import numpy as np\n",
        "import matplotlib.pyplot as plt\n",
        "plt.style.use('seaborn-white')\n",
        "\n",
        "sns.distplot(df[\"age\"],color=\"Green\");\n",
        "plt.show()\n",
        "print('Grafik distribusi usia memiliki tipe uniform')\n"
      ],
      "metadata": {
        "colab": {
          "base_uri": "https://localhost:8080/",
          "height": 345
        },
        "id": "9PFCkUxc5VsY",
        "outputId": "4fb6846d-306b-4545-ff5f-d3838afe9c94"
      },
      "execution_count": 98,
      "outputs": [
        {
          "output_type": "stream",
          "name": "stderr",
          "text": [
            "/usr/local/lib/python3.7/dist-packages/seaborn/distributions.py:2619: FutureWarning: `distplot` is a deprecated function and will be removed in a future version. Please adapt your code to use either `displot` (a figure-level function with similar flexibility) or `histplot` (an axes-level function for histograms).\n",
            "  warnings.warn(msg, FutureWarning)\n"
          ]
        },
        {
          "output_type": "display_data",
          "data": {
            "text/plain": [
              "<Figure size 432x288 with 1 Axes>"
            ],
            "image/png": "[encoded data removed]"
          },
          "metadata": {}
        },
        {
          "output_type": "stream",
          "name": "stdout",
          "text": [
            "Grafik distribusi usia memiliki tipe uniform\n"
          ]
        }
      ]
    },
    {
      "cell_type": "code",
      "source": [
        "data_charges = df['charges']\n",
        "chg_rokok =sns.distplot(df[df.smoker == 'yes'][\"charges\"],color=\"orange\")\n",
        "chg_non_rokok =sns.distplot(df[df.smoker == 'no'][\"charges\"],color=\"blue\")\n",
        "\n",
        "print(\"grafik distribusi Charges adalah skewed positif\")"
      ],
      "metadata": {
        "colab": {
          "base_uri": "https://localhost:8080/",
          "height": 378
        },
        "id": "cwqPYtojeH9L",
        "outputId": "75245e16-7802-4933-d6e0-f7af99996dc7"
      },
      "execution_count": 100,
      "outputs": [
        {
          "output_type": "stream",
          "name": "stderr",
          "text": [
            "/usr/local/lib/python3.7/dist-packages/seaborn/distributions.py:2619: FutureWarning: `distplot` is a deprecated function and will be removed in a future version. Please adapt your code to use either `displot` (a figure-level function with similar flexibility) or `histplot` (an axes-level function for histograms).\n",
            "  warnings.warn(msg, FutureWarning)\n",
            "/usr/local/lib/python3.7/dist-packages/seaborn/distributions.py:2619: FutureWarning: `distplot` is a deprecated function and will be removed in a future version. Please adapt your code to use either `displot` (a figure-level function with similar flexibility) or `histplot` (an axes-level function for histograms).\n",
            "  warnings.warn(msg, FutureWarning)\n"
          ]
        },
        {
          "output_type": "stream",
          "name": "stdout",
          "text": [
            "grafik distribusi Charges adalah skewed positif\n"
          ]
        },
        {
          "output_type": "display_data",
          "data": {
            "text/plain": [
              "<Figure size 432x288 with 1 Axes>"
            ],
            "image/png": "[encoded data removed]"
          },
          "metadata": {}
        }
      ]
    },
    {
      "cell_type": "code",
      "source": [
        "data_bmi = df['bmi']\n",
        "sns.distplot(df[df.smoker == 'yes'][\"bmi\"],color=\"Blue\");\n",
        "plt.show()\n",
        "\n",
        "print(\"grafik distribusi BMI perokok adalah normal\")"
      ],
      "metadata": {
        "colab": {
          "base_uri": "https://localhost:8080/",
          "height": 345
        },
        "id": "1y0RlAMTeMAZ",
        "outputId": "254dfb0f-b41e-45e5-be94-8073ee6bb808"
      },
      "execution_count": 159,
      "outputs": [
        {
          "output_type": "stream",
          "name": "stderr",
          "text": [
            "/usr/local/lib/python3.7/dist-packages/seaborn/distributions.py:2619: FutureWarning: `distplot` is a deprecated function and will be removed in a future version. Please adapt your code to use either `displot` (a figure-level function with similar flexibility) or `histplot` (an axes-level function for histograms).\n",
            "  warnings.warn(msg, FutureWarning)\n"
          ]
        },
        {
          "output_type": "display_data",
          "data": {
            "text/plain": [
              "<Figure size 432x288 with 1 Axes>"
            ],
            "image/png": "[encoded data removed]"
          },
          "metadata": {
            "needs_background": "light"
          }
        },
        {
          "output_type": "stream",
          "name": "stdout",
          "text": [
            "grafik distribusi BMI perokok adalah normal\n"
          ]
        }
      ]
    },
    {
      "cell_type": "code",
      "source": [
        "#Rata-rata Umur Pengguna:\n",
        "\n",
        "rata_age = df['age'].mean()\n",
        "print(f\"Rata-rata umur pengguna adalah dengan rumus rata-rata  : {rata_age:.2f} Tahun\")\n"
      ],
      "metadata": {
        "colab": {
          "base_uri": "https://localhost:8080/"
        },
        "id": "Uy8Hy2H6XnOg",
        "outputId": "2ffb38da-b186-4406-c68c-f6116bd49fc0"
      },
      "execution_count": 23,
      "outputs": [
        {
          "output_type": "stream",
          "name": "stdout",
          "text": [
            "Rata-rata umur pengguna adalah dengan rumus rata-rata  : 39.21 Tahun\n"
          ]
        }
      ]
    },
    {
      "cell_type": "code",
      "source": [
        "#Rata-rata BMI Pengguna yang merokok\n",
        "rata_age_rokok = df[df.smoker == 'yes']['bmi'].mean()\n",
        "print(f\"Rata-rata BMI Pengguna yang merokok : {rata_age_rokok:.2f}\")"
      ],
      "metadata": {
        "colab": {
          "base_uri": "https://localhost:8080/"
        },
        "id": "f0otY7pbagMm",
        "outputId": "dad319f2-f0e8-43ea-a535-78de25b4a040"
      },
      "execution_count": 160,
      "outputs": [
        {
          "output_type": "stream",
          "name": "stdout",
          "text": [
            "Rata-rata BMI Pengguna yang merokok : 30.71\n"
          ]
        }
      ]
    },
    {
      "cell_type": "code",
      "source": [
        "#Apakah variansi dari data charges perokok dan non perokok sama?\n",
        "\n",
        "print(f\"varian charges yang merokok : {11541.55*2:.2f}\")\n",
        "print(f\"varian charges yang tidak merokok : {5993.78*2:.2f}\")\n",
        "print(\"\")\n",
        "print(\"variansi dari data charges perokok dan non perokok bebeda\")\n",
        "round(df['charges'].groupby(df['smoker']).describe().T,2)"
      ],
      "metadata": {
        "colab": {
          "base_uri": "https://localhost:8080/",
          "height": 329
        },
        "id": "c8uAdxUxl_J0",
        "outputId": "6bce8db6-698a-4220-d17a-6cf8f4ad2801"
      },
      "execution_count": 36,
      "outputs": [
        {
          "output_type": "stream",
          "name": "stdout",
          "text": [
            "varian charges yang merokok : 23083.10\n",
            "varian charges yang tidak merokok : 11987.56\n",
            "\n",
            "variansi dari data charges perokok dan non perokok bebeda\n"
          ]
        },
        {
          "output_type": "execute_result",
          "data": {
            "text/plain": [
              "smoker        no       yes\n",
              "count    1064.00    274.00\n",
              "mean     8434.27  32050.23\n",
              "std      5993.78  11541.55\n",
              "min      1121.87  12829.46\n",
              "25%      3986.44  20826.24\n",
              "50%      7345.41  34456.35\n",
              "75%     11362.89  41019.21\n",
              "max     36910.61  63770.43"
            ],
            "text/html": [
              "\n",
              "  <div id=\"df-d6ef458d-7a10-43db-a89b-35ff0c94039c\">\n",
              "    <div class=\"colab-df-container\">\n",
              "      <div>\n",
              "<style scoped>\n",
              "    .dataframe tbody tr th:only-of-type {\n",
              "        vertical-align: middle;\n",
              "    }\n",
              "\n",
              "    .dataframe tbody tr th {\n",
              "        vertical-align: top;\n",
              "    }\n",
              "\n",
              "    .dataframe thead th {\n",
              "        text-align: right;\n",
              "    }\n",
              "</style>\n",
              "<table border=\"1\" class=\"dataframe\">\n",
              "  <thead>\n",
              "    <tr style=\"text-align: right;\">\n",
              "      <th>smoker</th>\n",
              "      <th>no</th>\n",
              "      <th>yes</th>\n",
              "    </tr>\n",
              "  </thead>\n",
              "  <tbody>\n",
              "    <tr>\n",
              "      <th>count</th>\n",
              "      <td>1064.00</td>\n",
              "      <td>274.00</td>\n",
              "    </tr>\n",
              "    <tr>\n",
              "      <th>mean</th>\n",
              "      <td>8434.27</td>\n",
              "      <td>32050.23</td>\n",
              "    </tr>\n",
              "    <tr>\n",
              "      <th>std</th>\n",
              "      <td>5993.78</td>\n",
              "      <td>11541.55</td>\n",
              "    </tr>\n",
              "    <tr>\n",
              "      <th>min</th>\n",
              "      <td>1121.87</td>\n",
              "      <td>12829.46</td>\n",
              "    </tr>\n",
              "    <tr>\n",
              "      <th>25%</th>\n",
              "      <td>3986.44</td>\n",
              "      <td>20826.24</td>\n",
              "    </tr>\n",
              "    <tr>\n",
              "      <th>50%</th>\n",
              "      <td>7345.41</td>\n",
              "      <td>34456.35</td>\n",
              "    </tr>\n",
              "    <tr>\n",
              "      <th>75%</th>\n",
              "      <td>11362.89</td>\n",
              "      <td>41019.21</td>\n",
              "    </tr>\n",
              "    <tr>\n",
              "      <th>max</th>\n",
              "      <td>36910.61</td>\n",
              "      <td>63770.43</td>\n",
              "    </tr>\n",
              "  </tbody>\n",
              "</table>\n",
              "</div>\n",
              "      <button class=\"colab-df-convert\" onclick=\"convertToInteractive('df-d6ef458d-7a10-43db-a89b-35ff0c94039c')\"\n",
              "              title=\"Convert this dataframe to an interactive table.\"\n",
              "              style=\"display:none;\">\n",
              "        \n",
              "  <svg xmlns=\"http://www.w3.org/2000/svg\" height=\"24px\"viewBox=\"0 0 24 24\"\n",
              "       width=\"24px\">\n",
              "    <path d=\"M0 0h24v24H0V0z\" fill=\"none\"/>\n",
              "    <path d=\"M18.56 5.44l.94 2.06.94-2.06 2.06-.94-2.06-.94-.94-2.06-.94 2.06-2.06.94zm-11 1L8.5 8.5l.94-2.06 2.06-.94-2.06-.94L8.5 2.5l-.94 2.06-2.06.94zm10 10l.94 2.06.94-2.06 2.06-.94-2.06-.94-.94-2.06-.94 2.06-2.06.94z\"/><path d=\"M17.41 7.96l-1.37-1.37c-.4-.4-.92-.59-1.43-.59-.52 0-1.04.2-1.43.59L10.3 9.45l-7.72 7.72c-.78.78-.78 2.05 0 2.83L4 21.41c.39.39.9.59 1.41.59.51 0 1.02-.2 1.41-.59l7.78-7.78 2.81-2.81c.8-.78.8-2.07 0-2.86zM5.41 20L4 18.59l7.72-7.72 1.47 1.35L5.41 20z\"/>\n",
              "  </svg>\n",
              "      </button>\n",
              "      \n",
              "  <style>\n",
              "    .colab-df-container {\n",
              "      display:flex;\n",
              "      flex-wrap:wrap;\n",
              "      gap: 12px;\n",
              "    }\n",
              "\n",
              "    .colab-df-convert {\n",
              "      background-color: #E8F0FE;\n",
              "      border: none;\n",
              "      border-radius: 50%;\n",
              "      cursor: pointer;\n",
              "      display: none;\n",
              "      fill: #1967D2;\n",
              "      height: 32px;\n",
              "      padding: 0 0 0 0;\n",
              "      width: 32px;\n",
              "    }\n",
              "\n",
              "    .colab-df-convert:hover {\n",
              "      background-color: #E2EBFA;\n",
              "      box-shadow: 0px 1px 2px rgba(60, 64, 67, 0.3), 0px 1px 3px 1px rgba(60, 64, 67, 0.15);\n",
              "      fill: #174EA6;\n",
              "    }\n",
              "\n",
              "    [theme=dark] .colab-df-convert {\n",
              "      background-color: #3B4455;\n",
              "      fill: #D2E3FC;\n",
              "    }\n",
              "\n",
              "    [theme=dark] .colab-df-convert:hover {\n",
              "      background-color: #434B5C;\n",
              "      box-shadow: 0px 1px 3px 1px rgba(0, 0, 0, 0.15);\n",
              "      filter: drop-shadow(0px 1px 2px rgba(0, 0, 0, 0.3));\n",
              "      fill: #FFFFFF;\n",
              "    }\n",
              "  </style>\n",
              "\n",
              "      <script>\n",
              "        const buttonEl =\n",
              "          document.querySelector('#df-d6ef458d-7a10-43db-a89b-35ff0c94039c button.colab-df-convert');\n",
              "        buttonEl.style.display =\n",
              "          google.colab.kernel.accessAllowed ? 'block' : 'none';\n",
              "\n",
              "        async function convertToInteractive(key) {\n",
              "          const element = document.querySelector('#df-d6ef458d-7a10-43db-a89b-35ff0c94039c');\n",
              "          const dataTable =\n",
              "            await google.colab.kernel.invokeFunction('convertToInteractive',\n",
              "                                                     [key], {});\n",
              "          if (!dataTable) return;\n",
              "\n",
              "          const docLinkHtml = 'Like what you see? Visit the ' +\n",
              "            '<a target=\"_blank\" href=https://colab.research.google.com/notebooks/data_table.ipynb>data table notebook</a>'\n",
              "            + ' to learn more about interactive tables.';\n",
              "          element.innerHTML = '';\n",
              "          dataTable['output_type'] = 'display_data';\n",
              "          await google.colab.output.renderOutput(dataTable, element);\n",
              "          const docLink = document.createElement('div');\n",
              "          docLink.innerHTML = docLinkHtml;\n",
              "          element.appendChild(docLink);\n",
              "        }\n",
              "      </script>\n",
              "    </div>\n",
              "  </div>\n",
              "  "
            ]
          },
          "metadata": {},
          "execution_count": 36
        }
      ]
    },
    {
      "cell_type": "code",
      "source": [
        "#Apakah rata rata umur perempuan dan laki-laki yang merokok sama?\n",
        "print(\"Secara rata-rata umur perempuan dan laki-laki yang merokok sama di sekitar 38 tahun\")\n",
        "round(df['age'].where(df['smoker']=='yes').groupby(df['sex']).describe().T,2)"
      ],
      "metadata": {
        "id": "vUvYK4kImDKS",
        "colab": {
          "base_uri": "https://localhost:8080/",
          "height": 280
        },
        "outputId": "f490a38b-9c61-49da-aae1-8ebfcb0b66e1"
      },
      "execution_count": 62,
      "outputs": [
        {
          "output_type": "stream",
          "name": "stdout",
          "text": [
            "Secara rata-rata umur perempuan dan laki-laki yang merokok sama di sekitar 38 tahun\n"
          ]
        },
        {
          "output_type": "execute_result",
          "data": {
            "text/plain": [
              "sex    female    male\n",
              "count  115.00  159.00\n",
              "mean    38.61   38.45\n",
              "std     14.22   13.75\n",
              "min     18.00   18.00\n",
              "25%     26.50   27.00\n",
              "50%     39.00   38.00\n",
              "75%     48.50   49.50\n",
              "max     64.00   64.00"
            ],
            "text/html": [
              "\n",
              "  <div id=\"df-c5aaf65b-6dd5-44ac-985f-ca094f061740\">\n",
              "    <div class=\"colab-df-container\">\n",
              "      <div>\n",
              "<style scoped>\n",
              "    .dataframe tbody tr th:only-of-type {\n",
              "        vertical-align: middle;\n",
              "    }\n",
              "\n",
              "    .dataframe tbody tr th {\n",
              "        vertical-align: top;\n",
              "    }\n",
              "\n",
              "    .dataframe thead th {\n",
              "        text-align: right;\n",
              "    }\n",
              "</style>\n",
              "<table border=\"1\" class=\"dataframe\">\n",
              "  <thead>\n",
              "    <tr style=\"text-align: right;\">\n",
              "      <th>sex</th>\n",
              "      <th>female</th>\n",
              "      <th>male</th>\n",
              "    </tr>\n",
              "  </thead>\n",
              "  <tbody>\n",
              "    <tr>\n",
              "      <th>count</th>\n",
              "      <td>115.00</td>\n",
              "      <td>159.00</td>\n",
              "    </tr>\n",
              "    <tr>\n",
              "      <th>mean</th>\n",
              "      <td>38.61</td>\n",
              "      <td>38.45</td>\n",
              "    </tr>\n",
              "    <tr>\n",
              "      <th>std</th>\n",
              "      <td>14.22</td>\n",
              "      <td>13.75</td>\n",
              "    </tr>\n",
              "    <tr>\n",
              "      <th>min</th>\n",
              "      <td>18.00</td>\n",
              "      <td>18.00</td>\n",
              "    </tr>\n",
              "    <tr>\n",
              "      <th>25%</th>\n",
              "      <td>26.50</td>\n",
              "      <td>27.00</td>\n",
              "    </tr>\n",
              "    <tr>\n",
              "      <th>50%</th>\n",
              "      <td>39.00</td>\n",
              "      <td>38.00</td>\n",
              "    </tr>\n",
              "    <tr>\n",
              "      <th>75%</th>\n",
              "      <td>48.50</td>\n",
              "      <td>49.50</td>\n",
              "    </tr>\n",
              "    <tr>\n",
              "      <th>max</th>\n",
              "      <td>64.00</td>\n",
              "      <td>64.00</td>\n",
              "    </tr>\n",
              "  </tbody>\n",
              "</table>\n",
              "</div>\n",
              "      <button class=\"colab-df-convert\" onclick=\"convertToInteractive('df-c5aaf65b-6dd5-44ac-985f-ca094f061740')\"\n",
              "              title=\"Convert this dataframe to an interactive table.\"\n",
              "              style=\"display:none;\">\n",
              "        \n",
              "  <svg xmlns=\"http://www.w3.org/2000/svg\" height=\"24px\"viewBox=\"0 0 24 24\"\n",
              "       width=\"24px\">\n",
              "    <path d=\"M0 0h24v24H0V0z\" fill=\"none\"/>\n",
              "    <path d=\"M18.56 5.44l.94 2.06.94-2.06 2.06-.94-2.06-.94-.94-2.06-.94 2.06-2.06.94zm-11 1L8.5 8.5l.94-2.06 2.06-.94-2.06-.94L8.5 2.5l-.94 2.06-2.06.94zm10 10l.94 2.06.94-2.06 2.06-.94-2.06-.94-.94-2.06-.94 2.06-2.06.94z\"/><path d=\"M17.41 7.96l-1.37-1.37c-.4-.4-.92-.59-1.43-.59-.52 0-1.04.2-1.43.59L10.3 9.45l-7.72 7.72c-.78.78-.78 2.05 0 2.83L4 21.41c.39.39.9.59 1.41.59.51 0 1.02-.2 1.41-.59l7.78-7.78 2.81-2.81c.8-.78.8-2.07 0-2.86zM5.41 20L4 18.59l7.72-7.72 1.47 1.35L5.41 20z\"/>\n",
              "  </svg>\n",
              "      </button>\n",
              "      \n",
              "  <style>\n",
              "    .colab-df-container {\n",
              "      display:flex;\n",
              "      flex-wrap:wrap;\n",
              "      gap: 12px;\n",
              "    }\n",
              "\n",
              "    .colab-df-convert {\n",
              "      background-color: #E8F0FE;\n",
              "      border: none;\n",
              "      border-radius: 50%;\n",
              "      cursor: pointer;\n",
              "      display: none;\n",
              "      fill: #1967D2;\n",
              "      height: 32px;\n",
              "      padding: 0 0 0 0;\n",
              "      width: 32px;\n",
              "    }\n",
              "\n",
              "    .colab-df-convert:hover {\n",
              "      background-color: #E2EBFA;\n",
              "      box-shadow: 0px 1px 2px rgba(60, 64, 67, 0.3), 0px 1px 3px 1px rgba(60, 64, 67, 0.15);\n",
              "      fill: #174EA6;\n",
              "    }\n",
              "\n",
              "    [theme=dark] .colab-df-convert {\n",
              "      background-color: #3B4455;\n",
              "      fill: #D2E3FC;\n",
              "    }\n",
              "\n",
              "    [theme=dark] .colab-df-convert:hover {\n",
              "      background-color: #434B5C;\n",
              "      box-shadow: 0px 1px 3px 1px rgba(0, 0, 0, 0.15);\n",
              "      filter: drop-shadow(0px 1px 2px rgba(0, 0, 0, 0.3));\n",
              "      fill: #FFFFFF;\n",
              "    }\n",
              "  </style>\n",
              "\n",
              "      <script>\n",
              "        const buttonEl =\n",
              "          document.querySelector('#df-c5aaf65b-6dd5-44ac-985f-ca094f061740 button.colab-df-convert');\n",
              "        buttonEl.style.display =\n",
              "          google.colab.kernel.accessAllowed ? 'block' : 'none';\n",
              "\n",
              "        async function convertToInteractive(key) {\n",
              "          const element = document.querySelector('#df-c5aaf65b-6dd5-44ac-985f-ca094f061740');\n",
              "          const dataTable =\n",
              "            await google.colab.kernel.invokeFunction('convertToInteractive',\n",
              "                                                     [key], {});\n",
              "          if (!dataTable) return;\n",
              "\n",
              "          const docLinkHtml = 'Like what you see? Visit the ' +\n",
              "            '<a target=\"_blank\" href=https://colab.research.google.com/notebooks/data_table.ipynb>data table notebook</a>'\n",
              "            + ' to learn more about interactive tables.';\n",
              "          element.innerHTML = '';\n",
              "          dataTable['output_type'] = 'display_data';\n",
              "          await google.colab.output.renderOutput(dataTable, element);\n",
              "          const docLink = document.createElement('div');\n",
              "          docLink.innerHTML = docLinkHtml;\n",
              "          element.appendChild(docLink);\n",
              "        }\n",
              "      </script>\n",
              "    </div>\n",
              "  </div>\n",
              "  "
            ]
          },
          "metadata": {},
          "execution_count": 62
        }
      ]
    },
    {
      "cell_type": "code",
      "source": [
        "#Mana yang lebih tinggi, rata rata tagihan kesehatan perokok atau non merokok?\n",
        "print(f\"rata-rata tagihan perokok lebih tinggi {32050.23/8434.27:.2f} kali dibanding bukan perokok\")\n",
        "round(df['charges'].groupby(df['smoker']).describe().T,2)"
      ],
      "metadata": {
        "id": "sHMLyc3ymHFx",
        "colab": {
          "base_uri": "https://localhost:8080/",
          "height": 280
        },
        "outputId": "c646c5a1-bf7e-41b8-d061-5293efbebd79"
      },
      "execution_count": 65,
      "outputs": [
        {
          "output_type": "stream",
          "name": "stdout",
          "text": [
            "rata-rata tagihan perokok lebih tinggi 3.80 kali dibanding bukan perokok\n"
          ]
        },
        {
          "output_type": "execute_result",
          "data": {
            "text/plain": [
              "smoker        no       yes\n",
              "count    1064.00    274.00\n",
              "mean     8434.27  32050.23\n",
              "std      5993.78  11541.55\n",
              "min      1121.87  12829.46\n",
              "25%      3986.44  20826.24\n",
              "50%      7345.41  34456.35\n",
              "75%     11362.89  41019.21\n",
              "max     36910.61  63770.43"
            ],
            "text/html": [
              "\n",
              "  <div id=\"df-0473e52c-b784-4821-9ed5-ca630ac6ff06\">\n",
              "    <div class=\"colab-df-container\">\n",
              "      <div>\n",
              "<style scoped>\n",
              "    .dataframe tbody tr th:only-of-type {\n",
              "        vertical-align: middle;\n",
              "    }\n",
              "\n",
              "    .dataframe tbody tr th {\n",
              "        vertical-align: top;\n",
              "    }\n",
              "\n",
              "    .dataframe thead th {\n",
              "        text-align: right;\n",
              "    }\n",
              "</style>\n",
              "<table border=\"1\" class=\"dataframe\">\n",
              "  <thead>\n",
              "    <tr style=\"text-align: right;\">\n",
              "      <th>smoker</th>\n",
              "      <th>no</th>\n",
              "      <th>yes</th>\n",
              "    </tr>\n",
              "  </thead>\n",
              "  <tbody>\n",
              "    <tr>\n",
              "      <th>count</th>\n",
              "      <td>1064.00</td>\n",
              "      <td>274.00</td>\n",
              "    </tr>\n",
              "    <tr>\n",
              "      <th>mean</th>\n",
              "      <td>8434.27</td>\n",
              "      <td>32050.23</td>\n",
              "    </tr>\n",
              "    <tr>\n",
              "      <th>std</th>\n",
              "      <td>5993.78</td>\n",
              "      <td>11541.55</td>\n",
              "    </tr>\n",
              "    <tr>\n",
              "      <th>min</th>\n",
              "      <td>1121.87</td>\n",
              "      <td>12829.46</td>\n",
              "    </tr>\n",
              "    <tr>\n",
              "      <th>25%</th>\n",
              "      <td>3986.44</td>\n",
              "      <td>20826.24</td>\n",
              "    </tr>\n",
              "    <tr>\n",
              "      <th>50%</th>\n",
              "      <td>7345.41</td>\n",
              "      <td>34456.35</td>\n",
              "    </tr>\n",
              "    <tr>\n",
              "      <th>75%</th>\n",
              "      <td>11362.89</td>\n",
              "      <td>41019.21</td>\n",
              "    </tr>\n",
              "    <tr>\n",
              "      <th>max</th>\n",
              "      <td>36910.61</td>\n",
              "      <td>63770.43</td>\n",
              "    </tr>\n",
              "  </tbody>\n",
              "</table>\n",
              "</div>\n",
              "      <button class=\"colab-df-convert\" onclick=\"convertToInteractive('df-0473e52c-b784-4821-9ed5-ca630ac6ff06')\"\n",
              "              title=\"Convert this dataframe to an interactive table.\"\n",
              "              style=\"display:none;\">\n",
              "        \n",
              "  <svg xmlns=\"http://www.w3.org/2000/svg\" height=\"24px\"viewBox=\"0 0 24 24\"\n",
              "       width=\"24px\">\n",
              "    <path d=\"M0 0h24v24H0V0z\" fill=\"none\"/>\n",
              "    <path d=\"M18.56 5.44l.94 2.06.94-2.06 2.06-.94-2.06-.94-.94-2.06-.94 2.06-2.06.94zm-11 1L8.5 8.5l.94-2.06 2.06-.94-2.06-.94L8.5 2.5l-.94 2.06-2.06.94zm10 10l.94 2.06.94-2.06 2.06-.94-2.06-.94-.94-2.06-.94 2.06-2.06.94z\"/><path d=\"M17.41 7.96l-1.37-1.37c-.4-.4-.92-.59-1.43-.59-.52 0-1.04.2-1.43.59L10.3 9.45l-7.72 7.72c-.78.78-.78 2.05 0 2.83L4 21.41c.39.39.9.59 1.41.59.51 0 1.02-.2 1.41-.59l7.78-7.78 2.81-2.81c.8-.78.8-2.07 0-2.86zM5.41 20L4 18.59l7.72-7.72 1.47 1.35L5.41 20z\"/>\n",
              "  </svg>\n",
              "      </button>\n",
              "      \n",
              "  <style>\n",
              "    .colab-df-container {\n",
              "      display:flex;\n",
              "      flex-wrap:wrap;\n",
              "      gap: 12px;\n",
              "    }\n",
              "\n",
              "    .colab-df-convert {\n",
              "      background-color: #E8F0FE;\n",
              "      border: none;\n",
              "      border-radius: 50%;\n",
              "      cursor: pointer;\n",
              "      display: none;\n",
              "      fill: #1967D2;\n",
              "      height: 32px;\n",
              "      padding: 0 0 0 0;\n",
              "      width: 32px;\n",
              "    }\n",
              "\n",
              "    .colab-df-convert:hover {\n",
              "      background-color: #E2EBFA;\n",
              "      box-shadow: 0px 1px 2px rgba(60, 64, 67, 0.3), 0px 1px 3px 1px rgba(60, 64, 67, 0.15);\n",
              "      fill: #174EA6;\n",
              "    }\n",
              "\n",
              "    [theme=dark] .colab-df-convert {\n",
              "      background-color: #3B4455;\n",
              "      fill: #D2E3FC;\n",
              "    }\n",
              "\n",
              "    [theme=dark] .colab-df-convert:hover {\n",
              "      background-color: #434B5C;\n",
              "      box-shadow: 0px 1px 3px 1px rgba(0, 0, 0, 0.15);\n",
              "      filter: drop-shadow(0px 1px 2px rgba(0, 0, 0, 0.3));\n",
              "      fill: #FFFFFF;\n",
              "    }\n",
              "  </style>\n",
              "\n",
              "      <script>\n",
              "        const buttonEl =\n",
              "          document.querySelector('#df-0473e52c-b784-4821-9ed5-ca630ac6ff06 button.colab-df-convert');\n",
              "        buttonEl.style.display =\n",
              "          google.colab.kernel.accessAllowed ? 'block' : 'none';\n",
              "\n",
              "        async function convertToInteractive(key) {\n",
              "          const element = document.querySelector('#df-0473e52c-b784-4821-9ed5-ca630ac6ff06');\n",
              "          const dataTable =\n",
              "            await google.colab.kernel.invokeFunction('convertToInteractive',\n",
              "                                                     [key], {});\n",
              "          if (!dataTable) return;\n",
              "\n",
              "          const docLinkHtml = 'Like what you see? Visit the ' +\n",
              "            '<a target=\"_blank\" href=https://colab.research.google.com/notebooks/data_table.ipynb>data table notebook</a>'\n",
              "            + ' to learn more about interactive tables.';\n",
              "          element.innerHTML = '';\n",
              "          dataTable['output_type'] = 'display_data';\n",
              "          await google.colab.output.renderOutput(dataTable, element);\n",
              "          const docLink = document.createElement('div');\n",
              "          docLink.innerHTML = docLinkHtml;\n",
              "          element.appendChild(docLink);\n",
              "        }\n",
              "      </script>\n",
              "    </div>\n",
              "  </div>\n",
              "  "
            ]
          },
          "metadata": {},
          "execution_count": 65
        }
      ]
    },
    {
      "cell_type": "code",
      "source": [
        "#Mana yang lebih tinggi, rata rata tagihan kesehatan perokok yang BMI nya diatas 25 atau non perokok yang BMI nya diatas 25\n",
        "#charges BMI >25\n",
        "chg_bmi25 = df['charges'].where(df['bmi'] > 25).groupby(df['smoker']).describe()\n",
        "print(f\"rata-rata tagihan orang dengan BMI > 25 untuk perokok {35116.91/8629.59:.2f} kali dibanding bukan perokok\")\n",
        "round(chg_bmi25.T,2)\n",
        "\n",
        "# round(df['chg_bmi25'].groupby(df['smoker']).describe().T,2)"
      ],
      "metadata": {
        "id": "AavC-_GZmLDq",
        "colab": {
          "base_uri": "https://localhost:8080/",
          "height": 280
        },
        "outputId": "665d2039-2a65-406e-e35e-38dad3842d44"
      },
      "execution_count": 67,
      "outputs": [
        {
          "output_type": "stream",
          "name": "stdout",
          "text": [
            "rata-rata tagihan orang dengan BMI > 25 untuk perokok 4.07 kali dibanding bukan perokok\n"
          ]
        },
        {
          "output_type": "execute_result",
          "data": {
            "text/plain": [
              "smoker        no       yes\n",
              "count     872.00    219.00\n",
              "mean     8629.59  35116.91\n",
              "std      6040.55  10702.56\n",
              "min      1131.51  15518.18\n",
              "25%      4236.58  24601.56\n",
              "50%      7580.90  37270.15\n",
              "75%     11462.12  42808.67\n",
              "max     36910.61  63770.43"
            ],
            "text/html": [
              "\n",
              "  <div id=\"df-c43534e3-02a6-4996-af7e-556c9266373e\">\n",
              "    <div class=\"colab-df-container\">\n",
              "      <div>\n",
              "<style scoped>\n",
              "    .dataframe tbody tr th:only-of-type {\n",
              "        vertical-align: middle;\n",
              "    }\n",
              "\n",
              "    .dataframe tbody tr th {\n",
              "        vertical-align: top;\n",
              "    }\n",
              "\n",
              "    .dataframe thead th {\n",
              "        text-align: right;\n",
              "    }\n",
              "</style>\n",
              "<table border=\"1\" class=\"dataframe\">\n",
              "  <thead>\n",
              "    <tr style=\"text-align: right;\">\n",
              "      <th>smoker</th>\n",
              "      <th>no</th>\n",
              "      <th>yes</th>\n",
              "    </tr>\n",
              "  </thead>\n",
              "  <tbody>\n",
              "    <tr>\n",
              "      <th>count</th>\n",
              "      <td>872.00</td>\n",
              "      <td>219.00</td>\n",
              "    </tr>\n",
              "    <tr>\n",
              "      <th>mean</th>\n",
              "      <td>8629.59</td>\n",
              "      <td>35116.91</td>\n",
              "    </tr>\n",
              "    <tr>\n",
              "      <th>std</th>\n",
              "      <td>6040.55</td>\n",
              "      <td>10702.56</td>\n",
              "    </tr>\n",
              "    <tr>\n",
              "      <th>min</th>\n",
              "      <td>1131.51</td>\n",
              "      <td>15518.18</td>\n",
              "    </tr>\n",
              "    <tr>\n",
              "      <th>25%</th>\n",
              "      <td>4236.58</td>\n",
              "      <td>24601.56</td>\n",
              "    </tr>\n",
              "    <tr>\n",
              "      <th>50%</th>\n",
              "      <td>7580.90</td>\n",
              "      <td>37270.15</td>\n",
              "    </tr>\n",
              "    <tr>\n",
              "      <th>75%</th>\n",
              "      <td>11462.12</td>\n",
              "      <td>42808.67</td>\n",
              "    </tr>\n",
              "    <tr>\n",
              "      <th>max</th>\n",
              "      <td>36910.61</td>\n",
              "      <td>63770.43</td>\n",
              "    </tr>\n",
              "  </tbody>\n",
              "</table>\n",
              "</div>\n",
              "      <button class=\"colab-df-convert\" onclick=\"convertToInteractive('df-c43534e3-02a6-4996-af7e-556c9266373e')\"\n",
              "              title=\"Convert this dataframe to an interactive table.\"\n",
              "              style=\"display:none;\">\n",
              "        \n",
              "  <svg xmlns=\"http://www.w3.org/2000/svg\" height=\"24px\"viewBox=\"0 0 24 24\"\n",
              "       width=\"24px\">\n",
              "    <path d=\"M0 0h24v24H0V0z\" fill=\"none\"/>\n",
              "    <path d=\"M18.56 5.44l.94 2.06.94-2.06 2.06-.94-2.06-.94-.94-2.06-.94 2.06-2.06.94zm-11 1L8.5 8.5l.94-2.06 2.06-.94-2.06-.94L8.5 2.5l-.94 2.06-2.06.94zm10 10l.94 2.06.94-2.06 2.06-.94-2.06-.94-.94-2.06-.94 2.06-2.06.94z\"/><path d=\"M17.41 7.96l-1.37-1.37c-.4-.4-.92-.59-1.43-.59-.52 0-1.04.2-1.43.59L10.3 9.45l-7.72 7.72c-.78.78-.78 2.05 0 2.83L4 21.41c.39.39.9.59 1.41.59.51 0 1.02-.2 1.41-.59l7.78-7.78 2.81-2.81c.8-.78.8-2.07 0-2.86zM5.41 20L4 18.59l7.72-7.72 1.47 1.35L5.41 20z\"/>\n",
              "  </svg>\n",
              "      </button>\n",
              "      \n",
              "  <style>\n",
              "    .colab-df-container {\n",
              "      display:flex;\n",
              "      flex-wrap:wrap;\n",
              "      gap: 12px;\n",
              "    }\n",
              "\n",
              "    .colab-df-convert {\n",
              "      background-color: #E8F0FE;\n",
              "      border: none;\n",
              "      border-radius: 50%;\n",
              "      cursor: pointer;\n",
              "      display: none;\n",
              "      fill: #1967D2;\n",
              "      height: 32px;\n",
              "      padding: 0 0 0 0;\n",
              "      width: 32px;\n",
              "    }\n",
              "\n",
              "    .colab-df-convert:hover {\n",
              "      background-color: #E2EBFA;\n",
              "      box-shadow: 0px 1px 2px rgba(60, 64, 67, 0.3), 0px 1px 3px 1px rgba(60, 64, 67, 0.15);\n",
              "      fill: #174EA6;\n",
              "    }\n",
              "\n",
              "    [theme=dark] .colab-df-convert {\n",
              "      background-color: #3B4455;\n",
              "      fill: #D2E3FC;\n",
              "    }\n",
              "\n",
              "    [theme=dark] .colab-df-convert:hover {\n",
              "      background-color: #434B5C;\n",
              "      box-shadow: 0px 1px 3px 1px rgba(0, 0, 0, 0.15);\n",
              "      filter: drop-shadow(0px 1px 2px rgba(0, 0, 0, 0.3));\n",
              "      fill: #FFFFFF;\n",
              "    }\n",
              "  </style>\n",
              "\n",
              "      <script>\n",
              "        const buttonEl =\n",
              "          document.querySelector('#df-c43534e3-02a6-4996-af7e-556c9266373e button.colab-df-convert');\n",
              "        buttonEl.style.display =\n",
              "          google.colab.kernel.accessAllowed ? 'block' : 'none';\n",
              "\n",
              "        async function convertToInteractive(key) {\n",
              "          const element = document.querySelector('#df-c43534e3-02a6-4996-af7e-556c9266373e');\n",
              "          const dataTable =\n",
              "            await google.colab.kernel.invokeFunction('convertToInteractive',\n",
              "                                                     [key], {});\n",
              "          if (!dataTable) return;\n",
              "\n",
              "          const docLinkHtml = 'Like what you see? Visit the ' +\n",
              "            '<a target=\"_blank\" href=https://colab.research.google.com/notebooks/data_table.ipynb>data table notebook</a>'\n",
              "            + ' to learn more about interactive tables.';\n",
              "          element.innerHTML = '';\n",
              "          dataTable['output_type'] = 'display_data';\n",
              "          await google.colab.output.renderOutput(dataTable, element);\n",
              "          const docLink = document.createElement('div');\n",
              "          docLink.innerHTML = docLinkHtml;\n",
              "          element.appendChild(docLink);\n",
              "        }\n",
              "      </script>\n",
              "    </div>\n",
              "  </div>\n",
              "  "
            ]
          },
          "metadata": {},
          "execution_count": 67
        }
      ]
    },
    {
      "cell_type": "code",
      "source": [
        "#BMI mana yang lebih tinggi, seseorang laki-laki atau perempuan?\n",
        "round(df['bmi'].groupby(df['sex']).describe().T,2)"
      ],
      "metadata": {
        "id": "4wb9-T-_mRGb",
        "colab": {
          "base_uri": "https://localhost:8080/",
          "height": 264
        },
        "outputId": "f9497b85-2921-4a86-90ff-17536cf7c195"
      },
      "execution_count": 68,
      "outputs": [
        {
          "output_type": "execute_result",
          "data": {
            "text/plain": [
              "sex    female    male\n",
              "count  662.00  676.00\n",
              "mean    30.38   30.94\n",
              "std      6.05    6.14\n",
              "min     16.82   15.96\n",
              "25%     26.12   26.41\n",
              "50%     30.11   30.69\n",
              "75%     34.31   34.99\n",
              "max     48.07   53.13"
            ],
            "text/html": [
              "\n",
              "  <div id=\"df-9b456eac-f9ae-44dd-9b93-257c91e809b1\">\n",
              "    <div class=\"colab-df-container\">\n",
              "      <div>\n",
              "<style scoped>\n",
              "    .dataframe tbody tr th:only-of-type {\n",
              "        vertical-align: middle;\n",
              "    }\n",
              "\n",
              "    .dataframe tbody tr th {\n",
              "        vertical-align: top;\n",
              "    }\n",
              "\n",
              "    .dataframe thead th {\n",
              "        text-align: right;\n",
              "    }\n",
              "</style>\n",
              "<table border=\"1\" class=\"dataframe\">\n",
              "  <thead>\n",
              "    <tr style=\"text-align: right;\">\n",
              "      <th>sex</th>\n",
              "      <th>female</th>\n",
              "      <th>male</th>\n",
              "    </tr>\n",
              "  </thead>\n",
              "  <tbody>\n",
              "    <tr>\n",
              "      <th>count</th>\n",
              "      <td>662.00</td>\n",
              "      <td>676.00</td>\n",
              "    </tr>\n",
              "    <tr>\n",
              "      <th>mean</th>\n",
              "      <td>30.38</td>\n",
              "      <td>30.94</td>\n",
              "    </tr>\n",
              "    <tr>\n",
              "      <th>std</th>\n",
              "      <td>6.05</td>\n",
              "      <td>6.14</td>\n",
              "    </tr>\n",
              "    <tr>\n",
              "      <th>min</th>\n",
              "      <td>16.82</td>\n",
              "      <td>15.96</td>\n",
              "    </tr>\n",
              "    <tr>\n",
              "      <th>25%</th>\n",
              "      <td>26.12</td>\n",
              "      <td>26.41</td>\n",
              "    </tr>\n",
              "    <tr>\n",
              "      <th>50%</th>\n",
              "      <td>30.11</td>\n",
              "      <td>30.69</td>\n",
              "    </tr>\n",
              "    <tr>\n",
              "      <th>75%</th>\n",
              "      <td>34.31</td>\n",
              "      <td>34.99</td>\n",
              "    </tr>\n",
              "    <tr>\n",
              "      <th>max</th>\n",
              "      <td>48.07</td>\n",
              "      <td>53.13</td>\n",
              "    </tr>\n",
              "  </tbody>\n",
              "</table>\n",
              "</div>\n",
              "      <button class=\"colab-df-convert\" onclick=\"convertToInteractive('df-9b456eac-f9ae-44dd-9b93-257c91e809b1')\"\n",
              "              title=\"Convert this dataframe to an interactive table.\"\n",
              "              style=\"display:none;\">\n",
              "        \n",
              "  <svg xmlns=\"http://www.w3.org/2000/svg\" height=\"24px\"viewBox=\"0 0 24 24\"\n",
              "       width=\"24px\">\n",
              "    <path d=\"M0 0h24v24H0V0z\" fill=\"none\"/>\n",
              "    <path d=\"M18.56 5.44l.94 2.06.94-2.06 2.06-.94-2.06-.94-.94-2.06-.94 2.06-2.06.94zm-11 1L8.5 8.5l.94-2.06 2.06-.94-2.06-.94L8.5 2.5l-.94 2.06-2.06.94zm10 10l.94 2.06.94-2.06 2.06-.94-2.06-.94-.94-2.06-.94 2.06-2.06.94z\"/><path d=\"M17.41 7.96l-1.37-1.37c-.4-.4-.92-.59-1.43-.59-.52 0-1.04.2-1.43.59L10.3 9.45l-7.72 7.72c-.78.78-.78 2.05 0 2.83L4 21.41c.39.39.9.59 1.41.59.51 0 1.02-.2 1.41-.59l7.78-7.78 2.81-2.81c.8-.78.8-2.07 0-2.86zM5.41 20L4 18.59l7.72-7.72 1.47 1.35L5.41 20z\"/>\n",
              "  </svg>\n",
              "      </button>\n",
              "      \n",
              "  <style>\n",
              "    .colab-df-container {\n",
              "      display:flex;\n",
              "      flex-wrap:wrap;\n",
              "      gap: 12px;\n",
              "    }\n",
              "\n",
              "    .colab-df-convert {\n",
              "      background-color: #E8F0FE;\n",
              "      border: none;\n",
              "      border-radius: 50%;\n",
              "      cursor: pointer;\n",
              "      display: none;\n",
              "      fill: #1967D2;\n",
              "      height: 32px;\n",
              "      padding: 0 0 0 0;\n",
              "      width: 32px;\n",
              "    }\n",
              "\n",
              "    .colab-df-convert:hover {\n",
              "      background-color: #E2EBFA;\n",
              "      box-shadow: 0px 1px 2px rgba(60, 64, 67, 0.3), 0px 1px 3px 1px rgba(60, 64, 67, 0.15);\n",
              "      fill: #174EA6;\n",
              "    }\n",
              "\n",
              "    [theme=dark] .colab-df-convert {\n",
              "      background-color: #3B4455;\n",
              "      fill: #D2E3FC;\n",
              "    }\n",
              "\n",
              "    [theme=dark] .colab-df-convert:hover {\n",
              "      background-color: #434B5C;\n",
              "      box-shadow: 0px 1px 3px 1px rgba(0, 0, 0, 0.15);\n",
              "      filter: drop-shadow(0px 1px 2px rgba(0, 0, 0, 0.3));\n",
              "      fill: #FFFFFF;\n",
              "    }\n",
              "  </style>\n",
              "\n",
              "      <script>\n",
              "        const buttonEl =\n",
              "          document.querySelector('#df-9b456eac-f9ae-44dd-9b93-257c91e809b1 button.colab-df-convert');\n",
              "        buttonEl.style.display =\n",
              "          google.colab.kernel.accessAllowed ? 'block' : 'none';\n",
              "\n",
              "        async function convertToInteractive(key) {\n",
              "          const element = document.querySelector('#df-9b456eac-f9ae-44dd-9b93-257c91e809b1');\n",
              "          const dataTable =\n",
              "            await google.colab.kernel.invokeFunction('convertToInteractive',\n",
              "                                                     [key], {});\n",
              "          if (!dataTable) return;\n",
              "\n",
              "          const docLinkHtml = 'Like what you see? Visit the ' +\n",
              "            '<a target=\"_blank\" href=https://colab.research.google.com/notebooks/data_table.ipynb>data table notebook</a>'\n",
              "            + ' to learn more about interactive tables.';\n",
              "          element.innerHTML = '';\n",
              "          dataTable['output_type'] = 'display_data';\n",
              "          await google.colab.output.renderOutput(dataTable, element);\n",
              "          const docLink = document.createElement('div');\n",
              "          docLink.innerHTML = docLinkHtml;\n",
              "          element.appendChild(docLink);\n",
              "        }\n",
              "      </script>\n",
              "    </div>\n",
              "  </div>\n",
              "  "
            ]
          },
          "metadata": {},
          "execution_count": 68
        }
      ]
    },
    {
      "cell_type": "code",
      "source": [
        "#BMI mana yang lebih tinggi, seseorang perokok atau non perokok?\n",
        "round(df['bmi'].groupby(df['smoker']).describe().T,2)"
      ],
      "metadata": {
        "id": "1igEw_gTmUDu",
        "colab": {
          "base_uri": "https://localhost:8080/",
          "height": 264
        },
        "outputId": "388ae31e-0051-43c8-f610-98a7a923b915"
      },
      "execution_count": 13,
      "outputs": [
        {
          "output_type": "execute_result",
          "data": {
            "text/plain": [
              "smoker       no     yes\n",
              "count   1064.00  274.00\n",
              "mean      30.65   30.71\n",
              "std        6.04    6.32\n",
              "min       15.96   17.20\n",
              "25%       26.32   26.08\n",
              "50%       30.35   30.45\n",
              "75%       34.43   35.20\n",
              "max       53.13   52.58"
            ],
            "text/html": [
              "\n",
              "  <div id=\"df-e4c0c130-5719-44f2-a40f-daf82287aceb\">\n",
              "    <div class=\"colab-df-container\">\n",
              "      <div>\n",
              "<style scoped>\n",
              "    .dataframe tbody tr th:only-of-type {\n",
              "        vertical-align: middle;\n",
              "    }\n",
              "\n",
              "    .dataframe tbody tr th {\n",
              "        vertical-align: top;\n",
              "    }\n",
              "\n",
              "    .dataframe thead th {\n",
              "        text-align: right;\n",
              "    }\n",
              "</style>\n",
              "<table border=\"1\" class=\"dataframe\">\n",
              "  <thead>\n",
              "    <tr style=\"text-align: right;\">\n",
              "      <th>smoker</th>\n",
              "      <th>no</th>\n",
              "      <th>yes</th>\n",
              "    </tr>\n",
              "  </thead>\n",
              "  <tbody>\n",
              "    <tr>\n",
              "      <th>count</th>\n",
              "      <td>1064.00</td>\n",
              "      <td>274.00</td>\n",
              "    </tr>\n",
              "    <tr>\n",
              "      <th>mean</th>\n",
              "      <td>30.65</td>\n",
              "      <td>30.71</td>\n",
              "    </tr>\n",
              "    <tr>\n",
              "      <th>std</th>\n",
              "      <td>6.04</td>\n",
              "      <td>6.32</td>\n",
              "    </tr>\n",
              "    <tr>\n",
              "      <th>min</th>\n",
              "      <td>15.96</td>\n",
              "      <td>17.20</td>\n",
              "    </tr>\n",
              "    <tr>\n",
              "      <th>25%</th>\n",
              "      <td>26.32</td>\n",
              "      <td>26.08</td>\n",
              "    </tr>\n",
              "    <tr>\n",
              "      <th>50%</th>\n",
              "      <td>30.35</td>\n",
              "      <td>30.45</td>\n",
              "    </tr>\n",
              "    <tr>\n",
              "      <th>75%</th>\n",
              "      <td>34.43</td>\n",
              "      <td>35.20</td>\n",
              "    </tr>\n",
              "    <tr>\n",
              "      <th>max</th>\n",
              "      <td>53.13</td>\n",
              "      <td>52.58</td>\n",
              "    </tr>\n",
              "  </tbody>\n",
              "</table>\n",
              "</div>\n",
              "      <button class=\"colab-df-convert\" onclick=\"convertToInteractive('df-e4c0c130-5719-44f2-a40f-daf82287aceb')\"\n",
              "              title=\"Convert this dataframe to an interactive table.\"\n",
              "              style=\"display:none;\">\n",
              "        \n",
              "  <svg xmlns=\"http://www.w3.org/2000/svg\" height=\"24px\"viewBox=\"0 0 24 24\"\n",
              "       width=\"24px\">\n",
              "    <path d=\"M0 0h24v24H0V0z\" fill=\"none\"/>\n",
              "    <path d=\"M18.56 5.44l.94 2.06.94-2.06 2.06-.94-2.06-.94-.94-2.06-.94 2.06-2.06.94zm-11 1L8.5 8.5l.94-2.06 2.06-.94-2.06-.94L8.5 2.5l-.94 2.06-2.06.94zm10 10l.94 2.06.94-2.06 2.06-.94-2.06-.94-.94-2.06-.94 2.06-2.06.94z\"/><path d=\"M17.41 7.96l-1.37-1.37c-.4-.4-.92-.59-1.43-.59-.52 0-1.04.2-1.43.59L10.3 9.45l-7.72 7.72c-.78.78-.78 2.05 0 2.83L4 21.41c.39.39.9.59 1.41.59.51 0 1.02-.2 1.41-.59l7.78-7.78 2.81-2.81c.8-.78.8-2.07 0-2.86zM5.41 20L4 18.59l7.72-7.72 1.47 1.35L5.41 20z\"/>\n",
              "  </svg>\n",
              "      </button>\n",
              "      \n",
              "  <style>\n",
              "    .colab-df-container {\n",
              "      display:flex;\n",
              "      flex-wrap:wrap;\n",
              "      gap: 12px;\n",
              "    }\n",
              "\n",
              "    .colab-df-convert {\n",
              "      background-color: #E8F0FE;\n",
              "      border: none;\n",
              "      border-radius: 50%;\n",
              "      cursor: pointer;\n",
              "      display: none;\n",
              "      fill: #1967D2;\n",
              "      height: 32px;\n",
              "      padding: 0 0 0 0;\n",
              "      width: 32px;\n",
              "    }\n",
              "\n",
              "    .colab-df-convert:hover {\n",
              "      background-color: #E2EBFA;\n",
              "      box-shadow: 0px 1px 2px rgba(60, 64, 67, 0.3), 0px 1px 3px 1px rgba(60, 64, 67, 0.15);\n",
              "      fill: #174EA6;\n",
              "    }\n",
              "\n",
              "    [theme=dark] .colab-df-convert {\n",
              "      background-color: #3B4455;\n",
              "      fill: #D2E3FC;\n",
              "    }\n",
              "\n",
              "    [theme=dark] .colab-df-convert:hover {\n",
              "      background-color: #434B5C;\n",
              "      box-shadow: 0px 1px 3px 1px rgba(0, 0, 0, 0.15);\n",
              "      filter: drop-shadow(0px 1px 2px rgba(0, 0, 0, 0.3));\n",
              "      fill: #FFFFFF;\n",
              "    }\n",
              "  </style>\n",
              "\n",
              "      <script>\n",
              "        const buttonEl =\n",
              "          document.querySelector('#df-e4c0c130-5719-44f2-a40f-daf82287aceb button.colab-df-convert');\n",
              "        buttonEl.style.display =\n",
              "          google.colab.kernel.accessAllowed ? 'block' : 'none';\n",
              "\n",
              "        async function convertToInteractive(key) {\n",
              "          const element = document.querySelector('#df-e4c0c130-5719-44f2-a40f-daf82287aceb');\n",
              "          const dataTable =\n",
              "            await google.colab.kernel.invokeFunction('convertToInteractive',\n",
              "                                                     [key], {});\n",
              "          if (!dataTable) return;\n",
              "\n",
              "          const docLinkHtml = 'Like what you see? Visit the ' +\n",
              "            '<a target=\"_blank\" href=https://colab.research.google.com/notebooks/data_table.ipynb>data table notebook</a>'\n",
              "            + ' to learn more about interactive tables.';\n",
              "          element.innerHTML = '';\n",
              "          dataTable['output_type'] = 'display_data';\n",
              "          await google.colab.output.renderOutput(dataTable, element);\n",
              "          const docLink = document.createElement('div');\n",
              "          docLink.innerHTML = docLinkHtml;\n",
              "          element.appendChild(docLink);\n",
              "        }\n",
              "      </script>\n",
              "    </div>\n",
              "  </div>\n",
              "  "
            ]
          },
          "metadata": {},
          "execution_count": 13
        }
      ]
    },
    {
      "cell_type": "markdown",
      "source": [
        "### Langkah 2 : Analisa Variabel Kategorik (PMF)"
      ],
      "metadata": {
        "id": "-Tzkn4mGrtIo"
      }
    },
    {
      "cell_type": "code",
      "source": [
        "#Gender mana yang memiliki tagihan paling tinggi?\n",
        "df.loc[df['charges'].idxmax()]"
      ],
      "metadata": {
        "colab": {
          "base_uri": "https://localhost:8080/"
        },
        "id": "ycHEl-ifr4bf",
        "outputId": "3374a5f2-1b03-4b46-bd12-631ef974e7c6"
      },
      "execution_count": null,
      "outputs": [
        {
          "output_type": "execute_result",
          "data": {
            "text/plain": [
              "age                  54\n",
              "sex              female\n",
              "bmi               47.41\n",
              "children              0\n",
              "smoker              yes\n",
              "region        southeast\n",
              "charges     63770.42801\n",
              "Name: 543, dtype: object"
            ]
          },
          "metadata": {},
          "execution_count": 54
        }
      ]
    },
    {
      "cell_type": "code",
      "source": [
        "#Distribusi peluang tagihan di tiap-tiap region\n",
        "#Buat Histogram Distribusi tiap2 region\n"
      ],
      "metadata": {
        "id": "1DHXlCbbvWxL"
      },
      "execution_count": null,
      "outputs": []
    },
    {
      "cell_type": "code",
      "source": [
        "# Apakah setiap region memiliki proporsi data banyak orang yang sama?\n",
        "sns.countplot(df['region'])\n",
        "print(pd.DataFrame({'Count':df.groupby('region').size(),'Percentage': df.groupby('region').size() / len(df)}))"
      ],
      "metadata": {
        "colab": {
          "base_uri": "https://localhost:8080/",
          "height": 428
        },
        "id": "9R62vVRw0Lql",
        "outputId": "0da2797c-f9bc-4ae2-a5e5-08d5b97dd79c"
      },
      "execution_count": 86,
      "outputs": [
        {
          "output_type": "stream",
          "name": "stdout",
          "text": [
            "           Count  Percentage\n",
            "region                      \n",
            "northeast    324    0.242152\n",
            "northwest    325    0.242900\n",
            "southeast    364    0.272048\n",
            "southwest    325    0.242900\n"
          ]
        },
        {
          "output_type": "stream",
          "name": "stderr",
          "text": [
            "/usr/local/lib/python3.7/dist-packages/seaborn/_decorators.py:43: FutureWarning: Pass the following variable as a keyword arg: x. From version 0.12, the only valid positional argument will be `data`, and passing other arguments without an explicit keyword will result in an error or misinterpretation.\n",
            "  FutureWarning\n"
          ]
        },
        {
          "output_type": "display_data",
          "data": {
            "text/plain": [
              "<Figure size 432x288 with 1 Axes>"
            ],
            "image/png": "[encoded data removed]"
          },
          "metadata": {
            "needs_background": "light"
          }
        }
      ]
    },
    {
      "cell_type": "code",
      "source": [
        "#Mana yang lebih tinggi proporsi perokok atau non perokok?\n",
        "sns.countplot(df['smoker'])\n",
        "print(pd.DataFrame({'Count':df.groupby('smoker').size(),'Percentage': df.groupby('smoker').size() / len(df)}))"
      ],
      "metadata": {
        "colab": {
          "base_uri": "https://localhost:8080/",
          "height": 395
        },
        "id": "97dAdDyz0Uaa",
        "outputId": "6caf9754-a40e-47aa-ebc2-547fbf53d7a0"
      },
      "execution_count": 87,
      "outputs": [
        {
          "output_type": "stream",
          "name": "stdout",
          "text": [
            "        Count  Percentage\n",
            "smoker                   \n",
            "no       1064    0.795217\n",
            "yes       274    0.204783\n"
          ]
        },
        {
          "output_type": "stream",
          "name": "stderr",
          "text": [
            "/usr/local/lib/python3.7/dist-packages/seaborn/_decorators.py:43: FutureWarning: Pass the following variable as a keyword arg: x. From version 0.12, the only valid positional argument will be `data`, and passing other arguments without an explicit keyword will result in an error or misinterpretation.\n",
            "  FutureWarning\n"
          ]
        },
        {
          "output_type": "display_data",
          "data": {
            "text/plain": [
              "<Figure size 432x288 with 1 Axes>"
            ],
            "image/png": "[encoded data removed]"
          },
          "metadata": {
            "needs_background": "light"
          }
        }
      ]
    },
    {
      "cell_type": "code",
      "source": [
        "#Berapa peluang seseorang tersebut adalah perempuan diketahui dia adalah perokok?\n",
        "#membuat tabel  kontigensi\n",
        "print(pd.crosstab(index=df['smoker'], columns=df['sex']))\n",
        "\n",
        "#Event A adalah perempuan\n",
        "#Event B adalah perokok\n",
        "\n",
        "A = 547 + 115\n",
        "B = 115 + 159\n",
        "A_B = 115\n",
        "print(f\"\")\n",
        "print(f\"Jumlah ruang sampel orang merokok  : {B} \")\n",
        "print(f\"Jumlah event permpuan yang merokok  : {A_B} \")\n",
        "print(f\"peluang seseorang tersebut adalah perempuan diketahui dia adalah perokok  : {A_B/B:.2f} \")"
      ],
      "metadata": {
        "colab": {
          "base_uri": "https://localhost:8080/"
        },
        "id": "Hg_17qYz81Ge",
        "outputId": "6ff42c2f-012e-4db0-8075-b6bcd227bdbb"
      },
      "execution_count": 88,
      "outputs": [
        {
          "output_type": "stream",
          "name": "stdout",
          "text": [
            "sex     female  male\n",
            "smoker              \n",
            "no         547   517\n",
            "yes        115   159\n",
            "\n",
            "Jumlah ruang sampel orang merokok  : 274 \n",
            "Jumlah event permpuan yang merokok  : 115 \n",
            "peluang seseorang tersebut adalah perempuan diketahui dia adalah perokok  : 0.42 \n"
          ]
        }
      ]
    },
    {
      "cell_type": "code",
      "source": [
        "# Berapa peluang seseorang tersebut adalah laki-laki diketahui dia adalah perokok?\n",
        "#membuat tabel  kontigensi\n",
        "print(pd.crosstab(index=df['smoker'], columns=df['sex']))\n",
        "\n",
        "#Event C adalah laki-laki\n",
        "#Event B adalah perokok\n",
        "\n",
        "C = 517 + 159\n",
        "B = 115 + 159\n",
        "A_C = 159\n",
        "print(f\"\")\n",
        "print(f\"Jumlah ruang sampel orang merokok  : {B} \")\n",
        "print(f\"Jumlah event lelaki yang merokok  : {A_C} \")\n",
        "print(f\"peluang seseorang tersebut adalah laki diketahui dia adalah perokok  : {A_C/B:.2f} \")"
      ],
      "metadata": {
        "colab": {
          "base_uri": "https://localhost:8080/"
        },
        "id": "JvUUcrSZ-ZLd",
        "outputId": "09039c9e-af2f-419e-b929-2f1aab9f234c"
      },
      "execution_count": 90,
      "outputs": [
        {
          "output_type": "stream",
          "name": "stdout",
          "text": [
            "sex     female  male\n",
            "smoker              \n",
            "no         547   517\n",
            "yes        115   159\n",
            "\n",
            "Jumlah ruang sampel orang merokok  : 274 \n",
            "Jumlah event lelaki yang merokok  : 159 \n",
            "peluang seseorang tersebut adalah laki diketahui dia adalah perokok  : 0.58 \n"
          ]
        }
      ]
    },
    {
      "cell_type": "code",
      "source": [
        "#Bagaimana bentuk distribusi tagihan dari tiap-tiap region?\n",
        "sns.distplot(df[df.region == 'northeast'][\"charges\"],color=\"red\");\n",
        "plt.show()"
      ],
      "metadata": {
        "colab": {
          "base_uri": "https://localhost:8080/",
          "height": 340
        },
        "id": "YfdVhLB8BZFV",
        "outputId": "a51c7a15-ba34-40c9-df85-419fafe3f2dd"
      },
      "execution_count": 79,
      "outputs": [
        {
          "output_type": "stream",
          "name": "stderr",
          "text": [
            "/usr/local/lib/python3.7/dist-packages/seaborn/distributions.py:2619: FutureWarning: `distplot` is a deprecated function and will be removed in a future version. Please adapt your code to use either `displot` (a figure-level function with similar flexibility) or `histplot` (an axes-level function for histograms).\n",
            "  warnings.warn(msg, FutureWarning)\n"
          ]
        },
        {
          "output_type": "display_data",
          "data": {
            "text/plain": [
              "<Figure size 432x288 with 1 Axes>"
            ],
            "image/png": "[encoded data removed]"
          },
          "metadata": {
            "needs_background": "light"
          }
        }
      ]
    },
    {
      "cell_type": "code",
      "source": [
        "sns.distplot(df[df.region == 'northwest'][\"charges\"],color=\"green\");\n",
        "plt.show()"
      ],
      "metadata": {
        "colab": {
          "base_uri": "https://localhost:8080/",
          "height": 340
        },
        "id": "s5Gy0U4kgoLm",
        "outputId": "f241ea17-3c9c-4cf6-c4e0-71a4056b5000"
      },
      "execution_count": 80,
      "outputs": [
        {
          "output_type": "stream",
          "name": "stderr",
          "text": [
            "/usr/local/lib/python3.7/dist-packages/seaborn/distributions.py:2619: FutureWarning: `distplot` is a deprecated function and will be removed in a future version. Please adapt your code to use either `displot` (a figure-level function with similar flexibility) or `histplot` (an axes-level function for histograms).\n",
            "  warnings.warn(msg, FutureWarning)\n"
          ]
        },
        {
          "output_type": "display_data",
          "data": {
            "text/plain": [
              "<Figure size 432x288 with 1 Axes>"
            ],
            "image/png": "[encoded data removed]"
          },
          "metadata": {
            "needs_background": "light"
          }
        }
      ]
    },
    {
      "cell_type": "code",
      "source": [
        "sns.distplot(df[df.region == 'southeast'][\"charges\"],color=\"blue\");\n",
        "plt.show()"
      ],
      "metadata": {
        "colab": {
          "base_uri": "https://localhost:8080/",
          "height": 340
        },
        "id": "WBURQ0lVg9Ka",
        "outputId": "e87f5472-625f-4f66-dcdc-34026035cca4"
      },
      "execution_count": 82,
      "outputs": [
        {
          "output_type": "stream",
          "name": "stderr",
          "text": [
            "/usr/local/lib/python3.7/dist-packages/seaborn/distributions.py:2619: FutureWarning: `distplot` is a deprecated function and will be removed in a future version. Please adapt your code to use either `displot` (a figure-level function with similar flexibility) or `histplot` (an axes-level function for histograms).\n",
            "  warnings.warn(msg, FutureWarning)\n"
          ]
        },
        {
          "output_type": "display_data",
          "data": {
            "text/plain": [
              "<Figure size 432x288 with 1 Axes>"
            ],
            "image/png": "[encoded data removed]"
          },
          "metadata": {
            "needs_background": "light"
          }
        }
      ]
    },
    {
      "cell_type": "code",
      "source": [
        "sns.distplot(df[df.region == 'southwest'][\"charges\"],color=\"orange\");\n",
        "plt.show()"
      ],
      "metadata": {
        "colab": {
          "base_uri": "https://localhost:8080/",
          "height": 340
        },
        "id": "vFIv8hqghIeJ",
        "outputId": "004b383c-8adf-493a-b584-ec4c7e0ea51d"
      },
      "execution_count": 85,
      "outputs": [
        {
          "output_type": "stream",
          "name": "stderr",
          "text": [
            "/usr/local/lib/python3.7/dist-packages/seaborn/distributions.py:2619: FutureWarning: `distplot` is a deprecated function and will be removed in a future version. Please adapt your code to use either `displot` (a figure-level function with similar flexibility) or `histplot` (an axes-level function for histograms).\n",
            "  warnings.warn(msg, FutureWarning)\n"
          ]
        },
        {
          "output_type": "display_data",
          "data": {
            "text/plain": [
              "<Figure size 432x288 with 1 Axes>"
            ],
            "image/png": "[encoded data removed]"
          },
          "metadata": {
            "needs_background": "light"
          }
        }
      ]
    },
    {
      "cell_type": "markdown",
      "source": [
        "\n",
        "### Langkah 3 : Analisa Variabel Kontinu (CDF)"
      ],
      "metadata": {
        "id": "rn-NNJBTCNNs"
      }
    },
    {
      "cell_type": "code",
      "source": [
        "#Mencari peluang besar tagihan berdasarkan BMI\n",
        "# tagihan diasumsikan berdistribusi normal\n",
        "#mendefinisikan kondisi yang diinginkan BMI = 23\n",
        "Cond = df['bmi'] > 23\n",
        "data3a = df[Cond]\n",
        "\n",
        "#mendapatkan nilai rata-rata\n",
        "rata = np.mean(data3a['charges'])\n",
        "\n",
        "#mendapatkan nilai standar deviasi\n",
        "stdev = np.std(data3a['charges'])\n",
        "\n",
        "#nilai tagihan yang diinginkan\n",
        "x = 18000\n",
        "\n",
        "#menghitung standarisasi data\n",
        "Z = (x-rata)/stdev\n",
        "\n",
        "#mendapatkan nilai CDF\n",
        "p = norm.cdf(Z)\n",
        "print(f'Peluang mendapatkan tagihan sebesar 18000 dengan BMI lebih besar 23 adalah : { p:.2f}')\n"
      ],
      "metadata": {
        "colab": {
          "base_uri": "https://localhost:8080/"
        },
        "id": "82dYlwcFCVyL",
        "outputId": "51d75e70-07eb-4c08-f3ed-de1c4d0f09e7"
      },
      "execution_count": 94,
      "outputs": [
        {
          "output_type": "stream",
          "name": "stdout",
          "text": [
            "Peluang mendapatkan tagihan sebesar 18000 dengan BMI lebih besar 23 adalah : 0.63\n"
          ]
        }
      ]
    },
    {
      "cell_type": "code",
      "source": [
        "# SOAL : Mencari kemungkin terjadi, seorang perokok dengan BMI diatas 25 akan mendapatkan tagihan kesehatan di atas 16.700.\n",
        "#mendefinisikan kondisi yang diinginkan\n",
        "CondA = df['smoker'] == 'yes'\n",
        "CondB = df['bmi'] > 25\n",
        "data3b = df[CondA & CondB]\n",
        "print(data3b)\n",
        "#mendapatkan nilai rata-rata\n",
        "rata1 = np.mean(data3b['charges'])\n",
        "#mendapatkan nilai standar deviasi\n",
        "stdev1 = np.std(data3b['charges'])\n",
        "#nilai tagihan yang diinginkan\n",
        "x1 = 16700\n",
        "#menghitung standarisasi data\n",
        "Z1 = (x1-rata1)/stdev1\n",
        "#mendapatkan nilai CDF diatas nilai X\n",
        "p1 = 1-norm.cdf(Z1)\n",
        "print(f'Peluang seorang perokok dengan BMI diatas 25 akan mendapatkan tagihan kesehatan di atas 16.700 adalah : { p1:.2f}')"
      ],
      "metadata": {
        "id": "s7pZbptBM0_j",
        "colab": {
          "base_uri": "https://localhost:8080/"
        },
        "outputId": "589a5efa-1fbd-4ca6-a00f-01b2bdae1398"
      },
      "execution_count": 95,
      "outputs": [
        {
          "output_type": "stream",
          "name": "stdout",
          "text": [
            "      age     sex     bmi  children smoker     region      charges\n",
            "0      19  female  27.900         0    yes  southwest  16884.92400\n",
            "11     62  female  26.290         0    yes  southeast  27808.72510\n",
            "14     27    male  42.130         0    yes  southeast  39611.75770\n",
            "19     30    male  35.300         0    yes  southwest  36837.46700\n",
            "23     34  female  31.920         1    yes  northeast  37701.87680\n",
            "...   ...     ...     ...       ...    ...        ...          ...\n",
            "1308   25  female  30.200         0    yes  southwest  33900.65300\n",
            "1313   19  female  34.700         2    yes  southwest  36397.57600\n",
            "1321   62    male  26.695         0    yes  northeast  28101.33305\n",
            "1323   42  female  40.370         2    yes  southeast  43896.37630\n",
            "1337   61  female  29.070         0    yes  northwest  29141.36030\n",
            "\n",
            "[219 rows x 7 columns]\n",
            "Peluang seorang perokok dengan BMI diatas 25 akan mendapatkan tagihan kesehatan di atas 16.700 adalah : 0.96\n"
          ]
        }
      ]
    },
    {
      "cell_type": "code",
      "source": [
        "#Berapa peluang seseorang acak tagihan kesehatannya diatas 16.7k diketahui dia adalah perokok?\n",
        "#mendefinisikan kondisi yang diinginkan\n",
        "CondC = df['smoker'] == 'yes'\n",
        "data3c = df[CondC]\n",
        "print(data3c)\n",
        "#mendapatkan nilai rata-rata\n",
        "rata2 = np.mean(data3c['charges'])\n",
        "#mendapatkan nilai standar deviasi\n",
        "stdev2 = np.std(data3c['charges'])\n",
        "#nilai tagihan yang diinginkan\n",
        "x2 = 16700\n",
        "#menghitung standarisasi data\n",
        "Z2 = (x2-rata2)/stdev2\n",
        "#mendapatkan nilai CDF diatas nilai X\n",
        "p2 = 1-norm.cdf(Z2)\n",
        "print(f'Peluang seseorang acak tagihan kesehatannya diatas 16.7k diketahui dia adalah perokok adalah : { p2:.2f}')"
      ],
      "metadata": {
        "colab": {
          "base_uri": "https://localhost:8080/"
        },
        "id": "yFdewkDJo_nh",
        "outputId": "4944dcf0-8984-4b11-b259-47032e3ccc08"
      },
      "execution_count": 102,
      "outputs": [
        {
          "output_type": "stream",
          "name": "stdout",
          "text": [
            "      age     sex     bmi  children smoker     region      charges\n",
            "0      19  female  27.900         0    yes  southwest  16884.92400\n",
            "11     62  female  26.290         0    yes  southeast  27808.72510\n",
            "14     27    male  42.130         0    yes  southeast  39611.75770\n",
            "19     30    male  35.300         0    yes  southwest  36837.46700\n",
            "23     34  female  31.920         1    yes  northeast  37701.87680\n",
            "...   ...     ...     ...       ...    ...        ...          ...\n",
            "1313   19  female  34.700         2    yes  southwest  36397.57600\n",
            "1314   30  female  23.655         3    yes  northwest  18765.87545\n",
            "1321   62    male  26.695         0    yes  northeast  28101.33305\n",
            "1323   42  female  40.370         2    yes  southeast  43896.37630\n",
            "1337   61  female  29.070         0    yes  northwest  29141.36030\n",
            "\n",
            "[274 rows x 7 columns]\n",
            "Peluang seseorang acak tagihan kesehatannya diatas 16.7k diketahui dia adalah perokok adalah : 0.91\n"
          ]
        }
      ]
    },
    {
      "cell_type": "code",
      "source": [
        "#Seseorang dengan BMI diatas 25 mendapatkan tagihan kesehatan diatas 16.7k,\n",
        "#Seseorang dengan BMI dibawah 25 mendapatkan tagihan kesehatan diatas 16.7k\n",
        "#mendefinisikan kondisi yang diinginkan\n",
        "CondD = df['bmi'] > 25\n",
        "CondE = df['bmi'] <= 25\n",
        "data3d = df[CondD]\n",
        "data3e = df[CondE]\n",
        "#mendapatkan nilai rata-rata\n",
        "rata3 = np.mean(data3d['charges'])\n",
        "rata4 = np.mean(data3e['charges'])\n",
        "#mendapatkan nilai standar deviasi\n",
        "stdev3 = np.std(data3d['charges'])\n",
        "stdev4 = np.std(data3e['charges'])\n",
        "#nilai tagihan yang diinginkan\n",
        "x3 = 16700\n",
        "x4 = 16700\n",
        "#menghitung standarisasi data\n",
        "Z3 = (x3-rata3)/stdev3\n",
        "Z4 = (x4-rata4)/stdev4\n",
        "#mendapatkan nilai CDF diatas nilai X\n",
        "p3 = 1-norm.cdf(Z3)\n",
        "p4 = 1-norm.cdf(Z4)\n",
        "print(f'Peluang seseorang dengan BMI di atas 25 mendapatkan tagihan kesehatan di atas 16.7k adalah : { p3:.2f}')\n",
        "print(f'Peluang seseorang dengan BMI di bawah 25 mendapatkan tagihan kesehatan di atas 16.7k adalah : { p4:.2f}')"
      ],
      "metadata": {
        "colab": {
          "base_uri": "https://localhost:8080/"
        },
        "id": "TJj-DrOdqO9n",
        "outputId": "a8ccab5d-be63-44f4-ef28-bc63f21d64d5"
      },
      "execution_count": 103,
      "outputs": [
        {
          "output_type": "stream",
          "name": "stdout",
          "text": [
            "Peluang seseorang dengan BMI di atas 25 mendapatkan tagihan kesehatan di atas 16.7k adalah : 0.42\n",
            "Peluang seseorang dengan BMI di bawah 25 mendapatkan tagihan kesehatan di atas 16.7k adalah : 0.20\n"
          ]
        }
      ]
    },
    {
      "cell_type": "code",
      "source": [
        "#Seseorang perokok dengan BMI diatas 25 mendapatkan tagihan kesehatan diatas 16.7k, atau\n",
        "#Seseorang non perokok dengan BMI diatas 25 mendapatkan tagihan kesehatan diatas 16.7k\n",
        "#mendefinisikan kondisi yang diinginkan\n",
        "CondD = df['bmi'] > 25\n",
        "CondF = df['smoker'] == 'yes'\n",
        "CondG = df['smoker'] == 'no'\n",
        "data3f = df[CondD & CondF]\n",
        "data3g = df[CondD & CondG]\n",
        "#mendapatkan nilai rata-rata\n",
        "rata5 = np.mean(data3f['charges'])\n",
        "rata6 = np.mean(data3g['charges'])\n",
        "#mendapatkan nilai standar deviasi\n",
        "stdev5 = np.std(data3f['charges'])\n",
        "stdev6 = np.std(data3g['charges'])\n",
        "#nilai tagihan yang diinginkan\n",
        "x5 = 16700\n",
        "x6 = 16700\n",
        "#menghitung standarisasi data\n",
        "Z5 = (x5-rata5)/stdev5\n",
        "Z6 = (x6-rata6)/stdev6\n",
        "#mendapatkan nilai CDF diatas nilai X\n",
        "p5 = 1-norm.cdf(Z5)\n",
        "p6 = 1-norm.cdf(Z6)\n",
        "print(f'Peluang seseorang perokok dengan BMI di atas 25 mendapatkan tagihan kesehatan di atas 16.7k adalah : { p5:.2f}')\n",
        "print(f'Peluang seseorang non perokok dengan BMI di atas 25 mendapatkan tagihan kesehatan di atas 16.7k adalah : { p6:.2f}')"
      ],
      "metadata": {
        "colab": {
          "base_uri": "https://localhost:8080/"
        },
        "id": "3J1cj1t2tP9C",
        "outputId": "4d39fbca-e439-405a-fe98-ea813fb9ca94"
      },
      "execution_count": 104,
      "outputs": [
        {
          "output_type": "stream",
          "name": "stdout",
          "text": [
            "Peluang seseorang perokok dengan BMI di atas 25 mendapatkan tagihan kesehatan di atas 16.7k adalah : 0.96\n",
            "Peluang seseorang non perokok dengan BMI di atas 25 mendapatkan tagihan kesehatan di atas 16.7k adalah : 0.09\n"
          ]
        }
      ]
    },
    {
      "cell_type": "markdown",
      "source": [
        "### Langkah 4 : Analisa Korelasi Variabel"
      ],
      "metadata": {
        "id": "R0J4rw9uvGwL"
      }
    },
    {
      "cell_type": "code",
      "source": [
        "# Setelah menjawab kondisi-kondisi yang lebih mungkin memiliki tagihan kesehatan yang tinggi\n",
        "# dari langkah sebelumnya. Kita juga dapat mencari keterhubungan antara kondisi-kondisi\n",
        "# tersebut dengan tagihan kesehatan. Analisa korelasi akan diperlukan disini.\n",
        "\n",
        "#Heatmap of variables to check correlation between variables\n",
        "corrMatt = df.corr()\n",
        "mask = np.array(corrMatt)\n",
        "mask[np.tril_indices_from(mask)] = False\n",
        "fig,ax= plt.subplots()\n",
        "fig.set_size_inches(10,5)\n",
        "sns.heatmap(corrMatt, mask=mask,cmap='viridis', square=True,annot=True)\n",
        "plt.show()\n"
      ],
      "metadata": {
        "colab": {
          "base_uri": "https://localhost:8080/",
          "height": 320
        },
        "id": "3aV6j8pSvLMS",
        "outputId": "3f50cd96-8559-4591-8117-1353f19af512"
      },
      "execution_count": 105,
      "outputs": [
        {
          "output_type": "display_data",
          "data": {
            "text/plain": [
              "<Figure size 720x360 with 2 Axes>"
            ],
            "image/png": "[encoded data removed]"
          },
          "metadata": {}
        }
      ]
    },
    {
      "cell_type": "code",
      "source": [
        "#korelasi Gender terhadap Charges\n",
        "\n",
        "Gcor = sns.boxplot(x=df['sex'], y=df['charges'])\n",
        "Gcor.set(xlabel='Gender', ylabel='Charge')\n",
        "plt.show()\n",
        "\n"
      ],
      "metadata": {
        "colab": {
          "base_uri": "https://localhost:8080/",
          "height": 276
        },
        "id": "b93fwVx42lr0",
        "outputId": "eaa61e53-77aa-4ed8-db02-040c90a7d9ed"
      },
      "execution_count": 107,
      "outputs": [
        {
          "output_type": "display_data",
          "data": {
            "text/plain": [
              "<Figure size 432x288 with 1 Axes>"
            ],
            "image/png": "[encoded data removed]"
          },
          "metadata": {}
        }
      ]
    },
    {
      "cell_type": "code",
      "source": [
        "#korelasi Smoker terhadap Charges\n",
        "\n",
        "Scor = sns.boxplot(x=df['smoker'], y=df['charges'])\n",
        "Scor.set(xlabel='Smoker', ylabel='Charge')\n",
        "plt.show()\n",
        "\n"
      ],
      "metadata": {
        "colab": {
          "base_uri": "https://localhost:8080/",
          "height": 276
        },
        "id": "l0ww4Mfe3BsY",
        "outputId": "5a6a7451-7fbc-4ca5-905a-cfa58fa07b89"
      },
      "execution_count": 109,
      "outputs": [
        {
          "output_type": "display_data",
          "data": {
            "text/plain": [
              "<Figure size 432x288 with 1 Axes>"
            ],
            "image/png": "[encoded data removed]"
          },
          "metadata": {}
        }
      ]
    },
    {
      "cell_type": "code",
      "source": [
        "covarians = df.cov()\n",
        "print(covarians)"
      ],
      "metadata": {
        "colab": {
          "base_uri": "https://localhost:8080/"
        },
        "id": "YMcyCVTVxwsi",
        "outputId": "740e194d-ae89-4d3c-8da1-f49ab072cc8b"
      },
      "execution_count": 110,
      "outputs": [
        {
          "output_type": "stream",
          "name": "stdout",
          "text": [
            "                   age           bmi    children       charges\n",
            "age         197.401387      9.362337    0.719303  5.087480e+04\n",
            "bmi           9.362337     37.187884    0.093795  1.464730e+04\n",
            "children      0.719303      0.093795    1.453213  9.926742e+02\n",
            "charges   50874.802298  14647.304426  992.674197  1.466524e+08\n"
          ]
        }
      ]
    },
    {
      "cell_type": "markdown",
      "source": [
        "### Langkah 5 : Pengujianm Hipotesis"
      ],
      "metadata": {
        "id": "A5YyHbd6y2qS"
      }
    },
    {
      "cell_type": "code",
      "source": [
        "from scipy.stats import bartlett\n",
        "from scipy.stats import shapiro\n",
        "from scipy.stats import anderson"
      ],
      "metadata": {
        "id": "VuttlC1V6u8R"
      },
      "execution_count": 136,
      "outputs": []
    },
    {
      "cell_type": "code",
      "source": [
        "# 1. Tagihan kesehatan perokok lebih tinggi daripada tagihan kesehatan non perokok\n",
        "rokok = np.array(df[df.smoker == 'yes'].charges) # perokok\n",
        "nonrokok = np.array(df[df.smoker == 'no'].charges) # non perokok\n",
        "#Gunakan Shapiro untuk uji normalitas\n",
        "stat, pval = stats.shapiro(rokok)\n",
        "stata, pvala = stats.shapiro(nonrokok)\n",
        "print('Distribusi Normal perokok :  p-value: %.8f' % pval)\n",
        "stata, pvala = stats.shapiro(nonrokok)\n",
        "print('Distribusi Normal nonrokok :  p-value: %.8f' % pvala)\n",
        "print('-'*50)\n",
        "#Gunakan Bartlett's test for equality of variance\n",
        "stat1, pval1 = stats.bartlett(rokok, nonrokok)\n",
        "print(f\"Nilai pval bartlet test adalah :{pval1:.8f}\")\n",
        "\n",
        "if pval1 < 0.05:\n",
        "    print('Varians tidak sama untuk kedua sampel' % pval1)\n",
        "else:\n",
        "    print('Varians tidak sama untuk kedua sampel' % pval1)\n",
        "print('-'*50)\n",
        "#Gunakan Welcth test dengan equal_var = False\n",
        "t_stat, p_value = stats.ttest_ind(rokok,nonrokok,equal_var='False')\n",
        "print(f\"t_stat : {t_stat:.8f}\")\n",
        "print(f\"p_value : {p_value:.8f}\")\n",
        "if p_value < 0.05:  \n",
        "    print(f'karena p_value **({p_value:.8f}) < 0.05**, maka Null Hypothesis ditolak. sehingga **Tagihan kesehatan perokok lebih tinggi daripada tagihan kesehatan non perokok**')\n",
        "else:\n",
        "    print(f'karena p_value **({p_value:.8f}) > 0.05**, maka Null Hypothesis diterima. sehingga **Tagihan kesehatan perokok sama dengan tagihan kesehatan non perokok**')\n"
      ],
      "metadata": {
        "colab": {
          "base_uri": "https://localhost:8080/"
        },
        "id": "TTuXeNHDy8Bx",
        "outputId": "44363e13-55be-49df-9b72-b777e995d0da"
      },
      "execution_count": 165,
      "outputs": [
        {
          "output_type": "stream",
          "name": "stdout",
          "text": [
            "Distribusi Normal perokok :  p-value: 0.00000000\n",
            "Distribusi Normal nonrokok :  p-value: 0.00000000\n",
            "--------------------------------------------------\n",
            "Nilai pval bartlet test adalah :0.00000000\n",
            "Varians tidak sama untuk kedua sampel\n",
            "--------------------------------------------------\n",
            "t_stat : 46.66492117\n",
            "p_value : 0.00000000\n",
            "karena p_value **(0.00000000) < 0.05**, maka Null Hypothesis ditolak. sehingga **Tagihan kesehatan perokok lebih tinggi daripada tagihan kesehatan non perokok**\n"
          ]
        }
      ]
    },
    {
      "cell_type": "code",
      "source": [
        "# Tagihan kesehatan dengan BMI diatas 25 lebih tinggi daripada tagihan kesehatan dengan BMI dibawah 25\n",
        "bmiup25 = np.array(data3d['charges']) # BMI di atas 25\n",
        "bmiud25 = np.array(data3e['charges']) # BMI di baswah 25\n",
        "#Gunakan Shapiro untuk uji normalitas\n",
        "stat2, pval2 = stats.shapiro(bmiup25)\n",
        "print('Distribusi Normal BMI di atas 25 :  p-value: %.8f' % pval2)\n",
        "stat3, pval3 = stats.shapiro(bmiud25)\n",
        "print('Distribusi Normal BMI di bawah 25 :  p-value: %.8f' % pval3)\n",
        "print('-'*50)\n",
        "#Gunakan Bartlett's test for equality of variance\n",
        "stat4, pval4 = stats.bartlett(bmiup25, bmiud25)\n",
        "print(pval4)\n",
        "print(f\"Nilai pval bartlet test adalah :{pval4:.8f}\")\n",
        "if pval4 < 0.05:\n",
        "    print('Varians tidak sama untuk kedua sampel' % pval4)\n",
        "else:\n",
        "    print('Varians sama untuk kedua sampel' % pval4)\n",
        "print('-'*50)\n",
        "#Gunakan Welcth test dengan equal_var = False\n",
        "t_stat2, p_value2 = stats.ttest_ind(bmiup25,bmiud25,equal_var='False')\n",
        "print(f\"t_stat : {t_stat2:.8f}\")\n",
        "print(f\"p_value : {p_value2:.8f}\")\n",
        "if p_value2 < 0.05:  \n",
        "    print(f'karena p_value **({p_value2:.8f}) < 0.05**, maka Null Hypothesis ditolak. sehingga **Tagihan kesehatan dengan BMI diatas 25 lebih tinggi daripada tagihan kesehatan dengan BMI dibawah 25**')\n",
        "else:\n",
        "    print(f'karena p_value **({p_value2:.8f}) > 0.05**, maka Null Hypothesis diterima. sehingga **Tagihan kesehatan dengan BMI diatas 25 sama dengan tagihan kesehatan dengan BMI dibawah 25**')\n"
      ],
      "metadata": {
        "colab": {
          "base_uri": "https://localhost:8080/"
        },
        "id": "ecE8HRG8z7Ib",
        "outputId": "e04f83d8-10fb-495a-bbd1-9be9889f8f1c"
      },
      "execution_count": 166,
      "outputs": [
        {
          "output_type": "stream",
          "name": "stdout",
          "text": [
            "Distribusi Normal BMI di atas 25 :  p-value: 0.00000000\n",
            "Distribusi Normal BMI di bawah 25 :  p-value: 0.00000000\n",
            "--------------------------------------------------\n",
            "9.962097161643153e-22\n",
            "Nilai pval bartlet test adalah :0.00000000\n",
            "Varians tidak sama untuk kedua sampel\n",
            "--------------------------------------------------\n",
            "t_stat : 4.31994691\n",
            "p_value : 0.00001676\n",
            "karena p_value **(0.00001676) < 0.05**, maka Null Hypothesis ditolak. sehingga **Tagihan kesehatan dengan BMI diatas 25 lebih tinggi daripada tagihan kesehatan dengan BMI dibawah 25**\n"
          ]
        }
      ]
    },
    {
      "cell_type": "code",
      "source": [
        "# BMI laki-laki dan perempuan sama\n",
        "bmicwe = df[df['sex'] == 'female']['bmi']\n",
        "bmicwo = df[df['sex'] == 'male']['bmi']\n",
        "#Gunakan Shapiro untuk uji normalitas\n",
        "stat5, pval5 = stats.shapiro(bmicwe)\n",
        "print('Distribusi Normal BMI di atas 25 :  p-value: %.8f' % pval5)\n",
        "stat6, pval6 = stats.shapiro(bmicwo)\n",
        "print('Distribusi Normal BMI di bawah 25 :  p-value: %.8f' % pval6)\n",
        "print('-'*50)\n",
        "#Gunakan Bartlett's test for equality of variance\n",
        "stat7, pval7 = stats.bartlett(bmicwe, bmicwo)\n",
        "print(f\"Nilai pval bartlet test adalah :{pval7:.8f}\")\n",
        "if pval7 < 0.05:\n",
        "    print('Varians tidak sama untuk kedua sampel' % pval7)\n",
        "else:\n",
        "    print('Varians sama untuk kedua sampel' % pval7)\n",
        "print('-'*50)\n",
        "#Gunakan t-test dengan equal_var = True\n",
        "t_stat1, p_value1 = stats.ttest_ind(bmicwe,bmicwo,equal_var='True')\n",
        "print(f\"t_stat : {t_stat1:.8f}\")\n",
        "print(f\"p_value : {p_value1:.8f}\")\n",
        "if p_value1 < 0.05:  \n",
        "    print(f'karena p_value **({p_value:.8f}) < 0.05**, maka Null Hypothesis ditolak. sehingga **BMI laki-laki berbeda dengan BMI perempuan**')\n",
        "else:\n",
        "    print(f'karena p_value **({p_value:.8f}) > 0.05**, maka Null Hypothesis diterima. sehingga **BMI laki-laki sama dengan BMI perempuan**')\n",
        "\n"
      ],
      "metadata": {
        "colab": {
          "base_uri": "https://localhost:8080/"
        },
        "id": "Vxngfm3o5f2G",
        "outputId": "93b1a13c-3380-4e04-b53c-836b8ceae916"
      },
      "execution_count": 167,
      "outputs": [
        {
          "output_type": "stream",
          "name": "stdout",
          "text": [
            "Distribusi Normal BMI di atas 25 :  p-value: 0.00354337\n",
            "Distribusi Normal BMI di bawah 25 :  p-value: 0.00313064\n",
            "--------------------------------------------------\n",
            "Nilai pval bartlet test adalah :0.68895570\n",
            "Varians sama untuk kedua sampel\n",
            "--------------------------------------------------\n",
            "t_stat : -1.69675264\n",
            "p_value : 0.08997637\n",
            "karena p_value **(0.00000000) > 0.05**, maka Null Hypothesis diterima. sehingga **BMI laki-laki sama dengan BMI perempuan**\n"
          ]
        }
      ]
    }
  ]
}